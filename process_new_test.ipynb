{
 "cells": [
  {
   "cell_type": "code",
   "execution_count": 1,
   "metadata": {},
   "outputs": [],
   "source": [
    "from easyjapanese import EasyJapanese"
   ]
  },
  {
   "cell_type": "code",
   "execution_count": 2,
   "metadata": {},
   "outputs": [
    {
     "name": "stdout",
     "output_type": "stream",
     "text": [
      "Done starting up a new browser!\n",
      "Done displyaing the list of the URLs!\n",
      "Done parsing the JavaScript data!\n",
      "Done reading the data as HTML!\n",
      "All done start_url(). Hello!\n",
      "Done getting the raw text of URLs!\n"
     ]
    },
    {
     "name": "stderr",
     "output_type": "stream",
     "text": [
      "100%|██████████| 2/2 [00:00<00:00, 2057.54it/s]"
     ]
    },
    {
     "name": "stdout",
     "output_type": "stream",
     "text": [
      "Done extracting the raw URL!\n",
      "Done retrieving the URL!\n",
      "Done extracting the raw URL!\n",
      "Done retrieving the URL!\n",
      "Done retrieving the URLs!\n",
      "All done with easy_urls! Great job!\n"
     ]
    },
    {
     "name": "stderr",
     "output_type": "stream",
     "text": [
      "\n"
     ]
    },
    {
     "name": "stdout",
     "output_type": "stream",
     "text": [
      "All done shutdown(). Goodbye!\n"
     ]
    },
    {
     "name": "stderr",
     "output_type": "stream",
     "text": [
      "  0%|          | 0/2 [00:00<?, ?it/s]"
     ]
    },
    {
     "name": "stdout",
     "output_type": "stream",
     "text": [
      "Done starting up a new browswer!\n",
      "Done parsing the JavaScript data!\n",
      "Done reading the data as HTML!\n",
      "All done start_extract(). Hello!\n"
     ]
    },
    {
     "name": "stderr",
     "output_type": "stream",
     "text": [
      " 50%|█████     | 1/2 [00:04<00:04,  4.18s/it]"
     ]
    },
    {
     "name": "stdout",
     "output_type": "stream",
     "text": [
      "Done starting up a new browswer!\n",
      "Done parsing the JavaScript data!\n",
      "Done reading the data as HTML!\n",
      "All done start_extract(). Hello!\n"
     ]
    },
    {
     "name": "stderr",
     "output_type": "stream",
     "text": [
      "100%|██████████| 2/2 [00:07<00:00,  3.73s/it]\n",
      "100%|██████████| 2/2 [00:00<00:00, 99.90it/s]\n"
     ]
    },
    {
     "name": "stdout",
     "output_type": "stream",
     "text": [
      "Done removing the noise!\n",
      "Done removing the noise!\n",
      "Done retrieving the articles!\n",
      "All done with easy_articles! Great job!\n",
      "All done shutdown(). Goodbye!\n"
     ]
    },
    {
     "name": "stderr",
     "output_type": "stream",
     "text": [
      "  0%|          | 0/2 [00:00<?, ?it/s]"
     ]
    },
    {
     "name": "stdout",
     "output_type": "stream",
     "text": [
      "Done starting up a new browser!\n",
      "Done parsing the JavaScript data!\n",
      "Done reading the data as HTML!\n",
      "All done start_url(). Hello!\n"
     ]
    },
    {
     "name": "stderr",
     "output_type": "stream",
     "text": [
      " 50%|█████     | 1/2 [00:04<00:04,  4.14s/it]"
     ]
    },
    {
     "name": "stdout",
     "output_type": "stream",
     "text": [
      "Done starting up a new browser!\n",
      "Done parsing the JavaScript data!\n",
      "Done reading the data as HTML!\n",
      "All done start_url(). Hello!\n"
     ]
    },
    {
     "name": "stderr",
     "output_type": "stream",
     "text": [
      "100%|██████████| 2/2 [00:08<00:00,  4.22s/it]\n",
      "100%|██████████| 2/2 [00:00<00:00, 229.70it/s]\n"
     ]
    },
    {
     "name": "stdout",
     "output_type": "stream",
     "text": [
      "Done retrieving the URL!\n",
      "Done retrieving the URL!\n",
      "Done retrieving the URLs!\n",
      "All done with regular_urls! Great job!\n",
      "All done shutdown(). Goodbye!\n"
     ]
    },
    {
     "name": "stderr",
     "output_type": "stream",
     "text": [
      "  0%|          | 0/2 [00:00<?, ?it/s]"
     ]
    },
    {
     "name": "stdout",
     "output_type": "stream",
     "text": [
      "Done starting up a new browser!\n",
      "Done parsing the JavaScript data!\n",
      "Done reading the data as HTML!\n",
      "All done start_url(). Hello!\n"
     ]
    },
    {
     "name": "stderr",
     "output_type": "stream",
     "text": [
      " 50%|█████     | 1/2 [00:05<00:05,  5.56s/it]"
     ]
    },
    {
     "name": "stdout",
     "output_type": "stream",
     "text": [
      "Done starting up a new browser!\n",
      "Done parsing the JavaScript data!\n",
      "Done reading the data as HTML!\n",
      "All done start_url(). Hello!\n"
     ]
    },
    {
     "name": "stderr",
     "output_type": "stream",
     "text": [
      "100%|██████████| 2/2 [00:11<00:00,  5.79s/it]\n",
      "100%|██████████| 2/2 [00:00<00:00, 51.85it/s]\n"
     ]
    },
    {
     "name": "stdout",
     "output_type": "stream",
     "text": [
      "Done removing the noise!\n",
      "Done removing the noise!\n",
      "Done retrieving the articles!\n",
      "All done with regular_articles! Great job!\n",
      "All done shutdown(). Goodbye!\n"
     ]
    },
    {
     "name": "stderr",
     "output_type": "stream",
     "text": [
      "Traceback (most recent call last):\n",
      "  File \"/Users/domolm/Library/CloudStorage/GoogleDrive-domokomod5@gmail.com/My Drive/Learning/EasyJapanese copy/easyjapanese/complete.py\", line 86, in input_length_test\n",
      "    raise LengthError('An unexpected error has occured with some or all of the four inputs.')\n",
      "easyjapanese.complete.LengthError: An unexpected error has occured with some or all of the four inputs.\n"
     ]
    },
    {
     "name": "stdout",
     "output_type": "stream",
     "text": [
      "None\n"
     ]
    },
    {
     "data": {
      "text/html": [
       "<div>\n",
       "<style scoped>\n",
       "    .dataframe tbody tr th:only-of-type {\n",
       "        vertical-align: middle;\n",
       "    }\n",
       "\n",
       "    .dataframe tbody tr th {\n",
       "        vertical-align: top;\n",
       "    }\n",
       "\n",
       "    .dataframe thead th {\n",
       "        text-align: right;\n",
       "    }\n",
       "</style>\n",
       "<table border=\"1\" class=\"dataframe\">\n",
       "  <thead>\n",
       "    <tr style=\"text-align: right;\">\n",
       "      <th></th>\n",
       "      <th>Date</th>\n",
       "      <th>Easy URL</th>\n",
       "      <th>Easy article</th>\n",
       "      <th>Regular URL</th>\n",
       "      <th>Regular article</th>\n",
       "    </tr>\n",
       "  </thead>\n",
       "  <tbody>\n",
       "    <tr>\n",
       "      <th>0</th>\n",
       "      <td>2022-12-01</td>\n",
       "      <td>https://www3.nhk.or.jp/news/easy/k100139073310...</td>\n",
       "      <td>電気の料金がとても高くなっています。普通の家庭が今年12月に使って来年1月に払う料金も、高い...</td>\n",
       "      <td>https://www3.nhk.or.jp/news/html/20221129/k100...</td>\n",
       "      <td>大手電力10社が国の認可を受けた電気料金は、燃料価格の上昇分が料金に反映できる上限に達してい...</td>\n",
       "    </tr>\n",
       "    <tr>\n",
       "      <th>1</th>\n",
       "      <td>2022-12-01</td>\n",
       "      <td>https://www3.nhk.or.jp/news/easy/k100139054510...</td>\n",
       "      <td>小田急電鉄は、毎月決まった料金で、特急のロマンスカーを何回でも乗ることができるようにしました...</td>\n",
       "      <td>https://www3.nhk.or.jp/news/html/20221128/k100...</td>\n",
       "      <td>私鉄大手の小田急電鉄は、毎月定額で特急電車を利用できる新たなサービスを始めました。コロナ禍で...</td>\n",
       "    </tr>\n",
       "    <tr>\n",
       "      <th>0</th>\n",
       "      <td>2022-11-30</td>\n",
       "      <td>https://www3.nhk.or.jp/news/easy/k100139070610...</td>\n",
       "      <td>新型コロナウイルスの問題で、政府は今まで、食事のときは少ない人数で、話をしないで食べるように...</td>\n",
       "      <td>https://www3.nhk.or.jp/news/html/20221129/k100...</td>\n",
       "      <td>新型コロナ対策の基本的対処方針で「黙食」の記述がなくなったことを受け、文部科学省は給食の時の...</td>\n",
       "    </tr>\n",
       "    <tr>\n",
       "      <th>1</th>\n",
       "      <td>2022-11-30</td>\n",
       "      <td>https://www3.nhk.or.jp/news/easy/k100139073410...</td>\n",
       "      <td>「かいけつゾロリ」は子どものための本で、きつねの「ゾロリ」たちが冒険をする話です。原ゆたかさ...</td>\n",
       "      <td>https://www3.nhk.or.jp/news/html/20221129/k100...</td>\n",
       "      <td>ことし7月に71巻目が発行された人気の児童書「かいけつゾロリ」シリーズが、同じ作者が物語とイ...</td>\n",
       "    </tr>\n",
       "    <tr>\n",
       "      <th>2</th>\n",
       "      <td>2022-11-30</td>\n",
       "      <td>https://www3.nhk.or.jp/news/easy/k100139065910...</td>\n",
       "      <td>お年寄りが転んで亡くなる事故が増えています。厚生労働省によると、おととしは65歳以上の885...</td>\n",
       "      <td>https://www3.nhk.or.jp/news/html/20221129/k100...</td>\n",
       "      <td>全日本柔道連盟は、柔道の受け身などの動作が高齢者の転倒事故の防止に役立つとして「転び方プロジ...</td>\n",
       "    </tr>\n",
       "    <tr>\n",
       "      <th>...</th>\n",
       "      <td>...</td>\n",
       "      <td>...</td>\n",
       "      <td>...</td>\n",
       "      <td>...</td>\n",
       "      <td>...</td>\n",
       "    </tr>\n",
       "    <tr>\n",
       "      <th>976</th>\n",
       "      <td>2021-11-26</td>\n",
       "      <td>https://www3.nhk.or.jp/news/easy/k100133620810...</td>\n",
       "      <td>今月8日から留学生などの外国人が日本に入ることができるようになりました。しかし、1日に入る人...</td>\n",
       "      <td>https://www3.nhk.or.jp/news/html/20211125/k100...</td>\n",
       "      <td>新型コロナウイルスの水際対策が緩和された一方で、いまだに、多くの留学生が入国できない状況が続...</td>\n",
       "    </tr>\n",
       "    <tr>\n",
       "      <th>977</th>\n",
       "      <td>2021-11-26</td>\n",
       "      <td>https://www3.nhk.or.jp/news/easy/k100133596110...</td>\n",
       "      <td>毎年冬に、札幌市では凍った道の滑りやすさを知らせる「つるつる予報」が出ます。この予報は、天気...</td>\n",
       "      <td>https://www3.nhk.or.jp/news/html/20211124/k100...</td>\n",
       "      <td>Not Found</td>\n",
       "    </tr>\n",
       "    <tr>\n",
       "      <th>978</th>\n",
       "      <td>2021-11-26</td>\n",
       "      <td>https://www3.nhk.or.jp/news/easy/k100133604110...</td>\n",
       "      <td>お年寄りや障害がある人が生活している施設では、新型コロナウイルスがうつらないように、家族など...</td>\n",
       "      <td>https://www3.nhk.or.jp/news/html/20211125/k100...</td>\n",
       "      <td>厚生労働省は、全国の高齢者施設などに対し、面会を希望する家族がワクチン接種を済ませている場合...</td>\n",
       "    </tr>\n",
       "    <tr>\n",
       "      <th>979</th>\n",
       "      <td>2021-11-25</td>\n",
       "      <td>https://www3.nhk.or.jp/news/easy/k100133597710...</td>\n",
       "      <td>1986年11月21日、東京の伊豆大島で大きな噴火がありました。溶岩が家の近くまで来て、住ん...</td>\n",
       "      <td>https://www3.nhk.or.jp/news/html/20211124/k100...</td>\n",
       "      <td>Not Found</td>\n",
       "    </tr>\n",
       "    <tr>\n",
       "      <th>980</th>\n",
       "      <td>2021-11-25</td>\n",
       "      <td>https://www3.nhk.or.jp/news/easy/k100133596810...</td>\n",
       "      <td>今年8月、小笠原諸島の海の中で火山が噴火しました。噴火で出た軽石が、沖縄県や東京都の伊豆諸島...</td>\n",
       "      <td>https://www3.nhk.or.jp/news/html/20211124/k100...</td>\n",
       "      <td>Not Found</td>\n",
       "    </tr>\n",
       "  </tbody>\n",
       "</table>\n",
       "<p>983 rows × 5 columns</p>\n",
       "</div>"
      ],
      "text/plain": [
       "          Date                                           Easy URL  \\\n",
       "0   2022-12-01  https://www3.nhk.or.jp/news/easy/k100139073310...   \n",
       "1   2022-12-01  https://www3.nhk.or.jp/news/easy/k100139054510...   \n",
       "0   2022-11-30  https://www3.nhk.or.jp/news/easy/k100139070610...   \n",
       "1   2022-11-30  https://www3.nhk.or.jp/news/easy/k100139073410...   \n",
       "2   2022-11-30  https://www3.nhk.or.jp/news/easy/k100139065910...   \n",
       "..         ...                                                ...   \n",
       "976 2021-11-26  https://www3.nhk.or.jp/news/easy/k100133620810...   \n",
       "977 2021-11-26  https://www3.nhk.or.jp/news/easy/k100133596110...   \n",
       "978 2021-11-26  https://www3.nhk.or.jp/news/easy/k100133604110...   \n",
       "979 2021-11-25  https://www3.nhk.or.jp/news/easy/k100133597710...   \n",
       "980 2021-11-25  https://www3.nhk.or.jp/news/easy/k100133596810...   \n",
       "\n",
       "                                          Easy article  \\\n",
       "0    電気の料金がとても高くなっています。普通の家庭が今年12月に使って来年1月に払う料金も、高い...   \n",
       "1    小田急電鉄は、毎月決まった料金で、特急のロマンスカーを何回でも乗ることができるようにしました...   \n",
       "0    新型コロナウイルスの問題で、政府は今まで、食事のときは少ない人数で、話をしないで食べるように...   \n",
       "1    「かいけつゾロリ」は子どものための本で、きつねの「ゾロリ」たちが冒険をする話です。原ゆたかさ...   \n",
       "2    お年寄りが転んで亡くなる事故が増えています。厚生労働省によると、おととしは65歳以上の885...   \n",
       "..                                                 ...   \n",
       "976  今月8日から留学生などの外国人が日本に入ることができるようになりました。しかし、1日に入る人...   \n",
       "977  毎年冬に、札幌市では凍った道の滑りやすさを知らせる「つるつる予報」が出ます。この予報は、天気...   \n",
       "978  お年寄りや障害がある人が生活している施設では、新型コロナウイルスがうつらないように、家族など...   \n",
       "979  1986年11月21日、東京の伊豆大島で大きな噴火がありました。溶岩が家の近くまで来て、住ん...   \n",
       "980  今年8月、小笠原諸島の海の中で火山が噴火しました。噴火で出た軽石が、沖縄県や東京都の伊豆諸島...   \n",
       "\n",
       "                                           Regular URL  \\\n",
       "0    https://www3.nhk.or.jp/news/html/20221129/k100...   \n",
       "1    https://www3.nhk.or.jp/news/html/20221128/k100...   \n",
       "0    https://www3.nhk.or.jp/news/html/20221129/k100...   \n",
       "1    https://www3.nhk.or.jp/news/html/20221129/k100...   \n",
       "2    https://www3.nhk.or.jp/news/html/20221129/k100...   \n",
       "..                                                 ...   \n",
       "976  https://www3.nhk.or.jp/news/html/20211125/k100...   \n",
       "977  https://www3.nhk.or.jp/news/html/20211124/k100...   \n",
       "978  https://www3.nhk.or.jp/news/html/20211125/k100...   \n",
       "979  https://www3.nhk.or.jp/news/html/20211124/k100...   \n",
       "980  https://www3.nhk.or.jp/news/html/20211124/k100...   \n",
       "\n",
       "                                       Regular article  \n",
       "0    大手電力10社が国の認可を受けた電気料金は、燃料価格の上昇分が料金に反映できる上限に達してい...  \n",
       "1    私鉄大手の小田急電鉄は、毎月定額で特急電車を利用できる新たなサービスを始めました。コロナ禍で...  \n",
       "0    新型コロナ対策の基本的対処方針で「黙食」の記述がなくなったことを受け、文部科学省は給食の時の...  \n",
       "1    ことし7月に71巻目が発行された人気の児童書「かいけつゾロリ」シリーズが、同じ作者が物語とイ...  \n",
       "2    全日本柔道連盟は、柔道の受け身などの動作が高齢者の転倒事故の防止に役立つとして「転び方プロジ...  \n",
       "..                                                 ...  \n",
       "976  新型コロナウイルスの水際対策が緩和された一方で、いまだに、多くの留学生が入国できない状況が続...  \n",
       "977                                          Not Found  \n",
       "978  厚生労働省は、全国の高齢者施設などに対し、面会を希望する家族がワクチン接種を済ませている場合...  \n",
       "979                                          Not Found  \n",
       "980                                          Not Found  \n",
       "\n",
       "[983 rows x 5 columns]"
      ]
     },
     "execution_count": 2,
     "metadata": {},
     "output_type": "execute_result"
    }
   ],
   "source": [
    "EasyJapanese()"
   ]
  },
  {
   "cell_type": "code",
   "execution_count": 1,
   "metadata": {},
   "outputs": [
    {
     "data": {
      "text/html": [
       "<div>\n",
       "<style scoped>\n",
       "    .dataframe tbody tr th:only-of-type {\n",
       "        vertical-align: middle;\n",
       "    }\n",
       "\n",
       "    .dataframe tbody tr th {\n",
       "        vertical-align: top;\n",
       "    }\n",
       "\n",
       "    .dataframe thead th {\n",
       "        text-align: right;\n",
       "    }\n",
       "</style>\n",
       "<table border=\"1\" class=\"dataframe\">\n",
       "  <thead>\n",
       "    <tr style=\"text-align: right;\">\n",
       "      <th></th>\n",
       "      <th>Date</th>\n",
       "      <th>Easy URL</th>\n",
       "      <th>Easy article</th>\n",
       "      <th>Regular URL</th>\n",
       "      <th>Regular article</th>\n",
       "    </tr>\n",
       "  </thead>\n",
       "  <tbody>\n",
       "    <tr>\n",
       "      <th>0</th>\n",
       "      <td>2022-12-02</td>\n",
       "      <td>https://www3.nhk.or.jp/news/easy/k100139101910...</td>\n",
       "      <td>カタールで行っているサッカーのワールドカップで、日本とスペインの試合がありました。前半の11...</td>\n",
       "      <td>https://www3.nhk.or.jp/news/html/20221201/k100...</td>\n",
       "      <td>サッカーワールドカップカタール大会、グループEの日本は、1次リーグの第3戦でスペインと対戦し...</td>\n",
       "    </tr>\n",
       "    <tr>\n",
       "      <th>1</th>\n",
       "      <td>2022-12-02</td>\n",
       "      <td>https://www3.nhk.or.jp/news/easy/k100139095310...</td>\n",
       "      <td>「新語・流行語大賞」は今年あったことや流行したことの中から、その年を代表することばを選びます...</td>\n",
       "      <td>https://www3.nhk.or.jp/news/html/20221201/k100...</td>\n",
       "      <td>ことしの「新語・流行語大賞」が12月1日に発表され、年間大賞には、プロ野球、ヤクルトの村上宗...</td>\n",
       "    </tr>\n",
       "    <tr>\n",
       "      <th>2</th>\n",
       "      <td>2022-12-02</td>\n",
       "      <td>https://www3.nhk.or.jp/news/easy/k100139082210...</td>\n",
       "      <td>NECは、イベントの会場の入り口などで、大勢の人の顔を1台のカメラですぐにチェックできる技術...</td>\n",
       "      <td>https://www3.nhk.or.jp/news/html/20221130/k100...</td>\n",
       "      <td>多くの人たちが集まるイベント会場やオフィスの入り口でも、“顔パス”で入場できる新しい技術が開...</td>\n",
       "    </tr>\n",
       "    <tr>\n",
       "      <th>3</th>\n",
       "      <td>2022-12-02</td>\n",
       "      <td>https://www3.nhk.or.jp/news/easy/k100139084210...</td>\n",
       "      <td>今年は、妖怪の漫画「ゲゲゲの鬼太郎」をかいた水木しげるさんが生まれてから100年です。水木さ...</td>\n",
       "      <td>https://www3.nhk.or.jp/news/html/20221130/k100...</td>\n",
       "      <td>11月30日は「ゲゲゲの鬼太郎」の作者、漫画家の水木しげるさんの命日です。ことしは、水木さん...</td>\n",
       "    </tr>\n",
       "    <tr>\n",
       "      <th>4</th>\n",
       "      <td>2022-12-01</td>\n",
       "      <td>https://www3.nhk.or.jp/news/easy/k100139090210...</td>\n",
       "      <td>政府は12月1日から来年3月31日まで、家庭や会社で使う電気を少なくして、節電してほしいとお...</td>\n",
       "      <td>https://www3.nhk.or.jp/news/html/20221201/k100...</td>\n",
       "      <td>この冬の厳しい電力需給に対応するため、政府は全国の家庭や企業を対象に1日から節電要請を始めま...</td>\n",
       "    </tr>\n",
       "    <tr>\n",
       "      <th>...</th>\n",
       "      <td>...</td>\n",
       "      <td>...</td>\n",
       "      <td>...</td>\n",
       "      <td>...</td>\n",
       "      <td>...</td>\n",
       "    </tr>\n",
       "    <tr>\n",
       "      <th>984</th>\n",
       "      <td>2021-11-26</td>\n",
       "      <td>https://www3.nhk.or.jp/news/easy/k100133620810...</td>\n",
       "      <td>今月8日から留学生などの外国人が日本に入ることができるようになりました。しかし、1日に入る人...</td>\n",
       "      <td>https://www3.nhk.or.jp/news/html/20211125/k100...</td>\n",
       "      <td>新型コロナウイルスの水際対策が緩和された一方で、いまだに、多くの留学生が入国できない状況が続...</td>\n",
       "    </tr>\n",
       "    <tr>\n",
       "      <th>985</th>\n",
       "      <td>2021-11-26</td>\n",
       "      <td>https://www3.nhk.or.jp/news/easy/k100133596110...</td>\n",
       "      <td>毎年冬に、札幌市では凍った道の滑りやすさを知らせる「つるつる予報」が出ます。この予報は、天気...</td>\n",
       "      <td>https://www3.nhk.or.jp/news/html/20211124/k100...</td>\n",
       "      <td>Not Found</td>\n",
       "    </tr>\n",
       "    <tr>\n",
       "      <th>986</th>\n",
       "      <td>2021-11-26</td>\n",
       "      <td>https://www3.nhk.or.jp/news/easy/k100133604110...</td>\n",
       "      <td>お年寄りや障害がある人が生活している施設では、新型コロナウイルスがうつらないように、家族など...</td>\n",
       "      <td>https://www3.nhk.or.jp/news/html/20211125/k100...</td>\n",
       "      <td>厚生労働省は、全国の高齢者施設などに対し、面会を希望する家族がワクチン接種を済ませている場合...</td>\n",
       "    </tr>\n",
       "    <tr>\n",
       "      <th>987</th>\n",
       "      <td>2021-11-25</td>\n",
       "      <td>https://www3.nhk.or.jp/news/easy/k100133597710...</td>\n",
       "      <td>1986年11月21日、東京の伊豆大島で大きな噴火がありました。溶岩が家の近くまで来て、住ん...</td>\n",
       "      <td>https://www3.nhk.or.jp/news/html/20211124/k100...</td>\n",
       "      <td>Not Found</td>\n",
       "    </tr>\n",
       "    <tr>\n",
       "      <th>988</th>\n",
       "      <td>2021-11-25</td>\n",
       "      <td>https://www3.nhk.or.jp/news/easy/k100133596810...</td>\n",
       "      <td>今年8月、小笠原諸島の海の中で火山が噴火しました。噴火で出た軽石が、沖縄県や東京都の伊豆諸島...</td>\n",
       "      <td>https://www3.nhk.or.jp/news/html/20211124/k100...</td>\n",
       "      <td>Not Found</td>\n",
       "    </tr>\n",
       "  </tbody>\n",
       "</table>\n",
       "<p>989 rows × 5 columns</p>\n",
       "</div>"
      ],
      "text/plain": [
       "           Date                                           Easy URL  \\\n",
       "0    2022-12-02  https://www3.nhk.or.jp/news/easy/k100139101910...   \n",
       "1    2022-12-02  https://www3.nhk.or.jp/news/easy/k100139095310...   \n",
       "2    2022-12-02  https://www3.nhk.or.jp/news/easy/k100139082210...   \n",
       "3    2022-12-02  https://www3.nhk.or.jp/news/easy/k100139084210...   \n",
       "4    2022-12-01  https://www3.nhk.or.jp/news/easy/k100139090210...   \n",
       "..          ...                                                ...   \n",
       "984  2021-11-26  https://www3.nhk.or.jp/news/easy/k100133620810...   \n",
       "985  2021-11-26  https://www3.nhk.or.jp/news/easy/k100133596110...   \n",
       "986  2021-11-26  https://www3.nhk.or.jp/news/easy/k100133604110...   \n",
       "987  2021-11-25  https://www3.nhk.or.jp/news/easy/k100133597710...   \n",
       "988  2021-11-25  https://www3.nhk.or.jp/news/easy/k100133596810...   \n",
       "\n",
       "                                          Easy article  \\\n",
       "0    カタールで行っているサッカーのワールドカップで、日本とスペインの試合がありました。前半の11...   \n",
       "1    「新語・流行語大賞」は今年あったことや流行したことの中から、その年を代表することばを選びます...   \n",
       "2    NECは、イベントの会場の入り口などで、大勢の人の顔を1台のカメラですぐにチェックできる技術...   \n",
       "3    今年は、妖怪の漫画「ゲゲゲの鬼太郎」をかいた水木しげるさんが生まれてから100年です。水木さ...   \n",
       "4    政府は12月1日から来年3月31日まで、家庭や会社で使う電気を少なくして、節電してほしいとお...   \n",
       "..                                                 ...   \n",
       "984  今月8日から留学生などの外国人が日本に入ることができるようになりました。しかし、1日に入る人...   \n",
       "985  毎年冬に、札幌市では凍った道の滑りやすさを知らせる「つるつる予報」が出ます。この予報は、天気...   \n",
       "986  お年寄りや障害がある人が生活している施設では、新型コロナウイルスがうつらないように、家族など...   \n",
       "987  1986年11月21日、東京の伊豆大島で大きな噴火がありました。溶岩が家の近くまで来て、住ん...   \n",
       "988  今年8月、小笠原諸島の海の中で火山が噴火しました。噴火で出た軽石が、沖縄県や東京都の伊豆諸島...   \n",
       "\n",
       "                                           Regular URL  \\\n",
       "0    https://www3.nhk.or.jp/news/html/20221201/k100...   \n",
       "1    https://www3.nhk.or.jp/news/html/20221201/k100...   \n",
       "2    https://www3.nhk.or.jp/news/html/20221130/k100...   \n",
       "3    https://www3.nhk.or.jp/news/html/20221130/k100...   \n",
       "4    https://www3.nhk.or.jp/news/html/20221201/k100...   \n",
       "..                                                 ...   \n",
       "984  https://www3.nhk.or.jp/news/html/20211125/k100...   \n",
       "985  https://www3.nhk.or.jp/news/html/20211124/k100...   \n",
       "986  https://www3.nhk.or.jp/news/html/20211125/k100...   \n",
       "987  https://www3.nhk.or.jp/news/html/20211124/k100...   \n",
       "988  https://www3.nhk.or.jp/news/html/20211124/k100...   \n",
       "\n",
       "                                       Regular article  \n",
       "0    サッカーワールドカップカタール大会、グループEの日本は、1次リーグの第3戦でスペインと対戦し...  \n",
       "1    ことしの「新語・流行語大賞」が12月1日に発表され、年間大賞には、プロ野球、ヤクルトの村上宗...  \n",
       "2    多くの人たちが集まるイベント会場やオフィスの入り口でも、“顔パス”で入場できる新しい技術が開...  \n",
       "3    11月30日は「ゲゲゲの鬼太郎」の作者、漫画家の水木しげるさんの命日です。ことしは、水木さん...  \n",
       "4    この冬の厳しい電力需給に対応するため、政府は全国の家庭や企業を対象に1日から節電要請を始めま...  \n",
       "..                                                 ...  \n",
       "984  新型コロナウイルスの水際対策が緩和された一方で、いまだに、多くの留学生が入国できない状況が続...  \n",
       "985                                          Not Found  \n",
       "986  厚生労働省は、全国の高齢者施設などに対し、面会を希望する家族がワクチン接種を済ませている場合...  \n",
       "987                                          Not Found  \n",
       "988                                          Not Found  \n",
       "\n",
       "[989 rows x 5 columns]"
      ]
     },
     "execution_count": 1,
     "metadata": {},
     "output_type": "execute_result"
    }
   ],
   "source": [
    "import pandas as pd\n",
    "data = pd.read_csv('./data/data_pool\n",
    ".csv')\n",
    "data"
   ]
  },
  {
   "cell_type": "code",
   "execution_count": 4,
   "metadata": {},
   "outputs": [
    {
     "data": {
      "text/plain": [
       "'小田急電鉄は、毎月決まった料金で、特急のロマンスカーを何回でも乗ることができるようにしました。ロマンスカーは東京都や神奈川県を走っています。特急の料金は、3500円から6000円までの4種類です。このほかに運賃を払います。スマートフォンのアプリで席を決めて、平日の電車がすいている時間に1日2回まで乗ることができます。4回以上往復すると、いつもの特急の料金を払うより安くなります。小田急電鉄は、電車が混まない時間に会社に通う人などに乗ってもらうことを考えています。東京都やその周りの県の電車の会社は、乗る人が増えるように新しいやり方を始めています。京成電鉄は、朝と夜、電車が混む時間などに走る特急に、決まった料金で何回でも乗ることができるようにしています。'"
      ]
     },
     "execution_count": 4,
     "metadata": {},
     "output_type": "execute_result"
    }
   ],
   "source": [
    "data['Easy article'][1]"
   ]
  },
  {
   "cell_type": "code",
   "execution_count": null,
   "metadata": {},
   "outputs": [],
   "source": []
  }
 ],
 "metadata": {
  "kernelspec": {
   "display_name": "Python 3.10.8 64-bit ('3.10.8')",
   "language": "python",
   "name": "python3"
  },
  "language_info": {
   "codemirror_mode": {
    "name": "ipython",
    "version": 3
   },
   "file_extension": ".py",
   "mimetype": "text/x-python",
   "name": "python",
   "nbconvert_exporter": "python",
   "pygments_lexer": "ipython3",
   "version": "3.10.8"
  },
  "orig_nbformat": 4,
  "vscode": {
   "interpreter": {
    "hash": "898d3c6109607cac4667983f45c21ef7997d125c9b4da8292caa90a38e599c34"
   }
  }
 },
 "nbformat": 4,
 "nbformat_minor": 2
}
