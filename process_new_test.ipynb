{
 "cells": [
  {
   "cell_type": "code",
   "execution_count": 1,
   "metadata": {},
   "outputs": [],
   "source": [
    "import traceback\n",
    "from easyjapanese2 import EasyJapanese"
   ]
  },
  {
   "cell_type": "code",
   "execution_count": 2,
   "metadata": {},
   "outputs": [],
   "source": [
    "# import time\n",
    "# from easyjapanese2 import easy\n",
    "# from easyjapanese2 import regular\n",
    "# from easyjapanese2 import complete\n",
    "\n",
    "\n",
    "# def EasyJapanese():\n",
    "#     easy_urls = []\n",
    "#     easy_articles = []\n",
    "#     regular_urls = []\n",
    "#     regular_articles = []\n",
    "\n",
    "#     e= easy.Easy()\n",
    "#     e.start_url()\n",
    "#     for url in e.easy_urls_raw:\n",
    "#         ez_url = e.get_url(url)\n",
    "#         easy_urls.append(ez_url)\n",
    "#         time.sleep(3)\n",
    "#     print(easy_articles)\n",
    "#     e.shutdown()\n",
    "\n",
    "#     e.start_extract()\n",
    "#     time.sleep(1)\n",
    "#     for url in easy_urls:\n",
    "#         ez_article = e.get_article(url)\n",
    "#         easy_articles.append(ez_article)\n",
    "#         time.sleep(3)\n",
    "#     e.shutdown()\n",
    "\n",
    "#     old_date = e.date\n",
    "\n",
    "#     r = regular.Regular()\n",
    "#     time.sleep(10)\n",
    "#     for url in easy_urls:\n",
    "#         reg_url = r.get_url(url)\n",
    "#         regular_urls.append(reg_url)\n",
    "#         time.sleep(3)\n",
    "#     for url in regular_urls:\n",
    "#         reg_article = r.get_article(url)\n",
    "#         regular_articles.append(reg_article)\n",
    "#         time.sleep(3)\n",
    "#     r.shutdown()\n",
    "\n",
    "#     c = complete.Complete(\n",
    "#             easy_urls, easy_articles,\n",
    "#             regular_urls, regular_articles,\n",
    "#             old_date\n",
    "#             )\n",
    "#     c.make_df()\n",
    "#     df_new = c.concat()\n",
    "#     return df_new\n"
   ]
  },
  {
   "cell_type": "code",
   "execution_count": 3,
   "metadata": {},
   "outputs": [
    {
     "name": "stdout",
     "output_type": "stream",
     "text": [
      "Done starting up a new browser!\n",
      "Done displyaing the list of the URLs\n",
      "Done parsing the JavaScript data to HTML!\n",
      "All done start_url(). Hello!\n",
      "Done getting the raw text of URLs!\n"
     ]
    },
    {
     "name": "stderr",
     "output_type": "stream",
     "text": [
      "100%|██████████| 4/4 [00:00<00:00, 9950.90it/s]\n"
     ]
    },
    {
     "name": "stdout",
     "output_type": "stream",
     "text": [
      "Done extracting the raw URL!\n",
      "Done retrieving the URL!\n",
      "Done extracting the raw URL!\n",
      "Done retrieving the URL!\n",
      "Done extracting the raw URL!\n",
      "Done retrieving the URL!\n",
      "Done extracting the raw URL!\n",
      "Done retrieving the URL!\n",
      "Done retrieving the URLs!\n",
      "All done with easy_urls! Great job!\n",
      "All done shutdown(). Goodbye!\n"
     ]
    },
    {
     "name": "stderr",
     "output_type": "stream",
     "text": [
      "  0%|          | 0/4 [00:00<?, ?it/s]"
     ]
    },
    {
     "name": "stdout",
     "output_type": "stream",
     "text": [
      "Done starting up a new browswer!\n",
      "Done parsing the JavaScript data to HTML!\n",
      "All done start_extract(). Hello!\n"
     ]
    },
    {
     "name": "stderr",
     "output_type": "stream",
     "text": [
      " 25%|██▌       | 1/4 [00:04<00:13,  4.50s/it]"
     ]
    },
    {
     "name": "stdout",
     "output_type": "stream",
     "text": [
      "Done starting up a new browswer!\n",
      "Done parsing the JavaScript data to HTML!\n",
      "All done start_extract(). Hello!\n"
     ]
    },
    {
     "name": "stderr",
     "output_type": "stream",
     "text": [
      " 50%|█████     | 2/4 [00:08<00:08,  4.29s/it]"
     ]
    },
    {
     "name": "stdout",
     "output_type": "stream",
     "text": [
      "Done starting up a new browswer!\n",
      "Done parsing the JavaScript data to HTML!\n",
      "All done start_extract(). Hello!\n"
     ]
    },
    {
     "name": "stderr",
     "output_type": "stream",
     "text": [
      " 75%|███████▌  | 3/4 [00:12<00:04,  4.22s/it]"
     ]
    },
    {
     "name": "stdout",
     "output_type": "stream",
     "text": [
      "Done starting up a new browswer!\n",
      "Done parsing the JavaScript data to HTML!\n",
      "All done start_extract(). Hello!\n"
     ]
    },
    {
     "name": "stderr",
     "output_type": "stream",
     "text": [
      "100%|██████████| 4/4 [00:17<00:00,  4.44s/it]\n",
      "100%|██████████| 4/4 [00:00<00:00, 109.96it/s]\n"
     ]
    },
    {
     "name": "stdout",
     "output_type": "stream",
     "text": [
      "Done removing the noise!\n",
      "Done removing the noise!\n",
      "Done removing the noise!\n",
      "Done removing the noise!\n",
      "Done retrieving the articles!\n",
      "All done with easy_articles! Great job!\n",
      "All done shutdown(). Goodbye!\n"
     ]
    },
    {
     "name": "stderr",
     "output_type": "stream",
     "text": [
      "  0%|          | 0/4 [00:00<?, ?it/s]"
     ]
    },
    {
     "name": "stdout",
     "output_type": "stream",
     "text": [
      "Done starting up a new browser!\n",
      "Done parsing the JavaScript data to HTML!\n",
      "All done start_url(). Hello!\n"
     ]
    },
    {
     "name": "stderr",
     "output_type": "stream",
     "text": [
      " 25%|██▌       | 1/4 [00:03<00:11,  3.87s/it]"
     ]
    },
    {
     "name": "stdout",
     "output_type": "stream",
     "text": [
      "Done starting up a new browser!\n",
      "Done parsing the JavaScript data to HTML!\n",
      "All done start_url(). Hello!\n"
     ]
    },
    {
     "name": "stderr",
     "output_type": "stream",
     "text": [
      " 50%|█████     | 2/4 [00:07<00:07,  3.96s/it]"
     ]
    },
    {
     "name": "stdout",
     "output_type": "stream",
     "text": [
      "Done starting up a new browser!\n",
      "Done parsing the JavaScript data to HTML!\n",
      "All done start_url(). Hello!\n"
     ]
    },
    {
     "name": "stderr",
     "output_type": "stream",
     "text": [
      " 75%|███████▌  | 3/4 [00:11<00:04,  4.00s/it]"
     ]
    },
    {
     "name": "stdout",
     "output_type": "stream",
     "text": [
      "Done starting up a new browser!\n",
      "Done parsing the JavaScript data to HTML!\n",
      "All done start_url(). Hello!\n"
     ]
    },
    {
     "name": "stderr",
     "output_type": "stream",
     "text": [
      "100%|██████████| 4/4 [00:16<00:00,  4.08s/it]\n",
      "100%|██████████| 4/4 [00:00<00:00, 250.89it/s]\n"
     ]
    },
    {
     "name": "stdout",
     "output_type": "stream",
     "text": [
      "Done retrieving the URL!\n",
      "Done retrieving the URL!\n",
      "Done retrieving the URL!\n",
      "Done retrieving the URL!\n",
      "All done shutdown(). Goodbye!\n"
     ]
    },
    {
     "name": "stderr",
     "output_type": "stream",
     "text": [
      "  0%|          | 0/4 [00:00<?, ?it/s]"
     ]
    },
    {
     "name": "stdout",
     "output_type": "stream",
     "text": [
      "Done starting up a new browser!\n",
      "Done parsing the JavaScript data to HTML!\n",
      "All done start_url(). Hello!\n"
     ]
    },
    {
     "name": "stderr",
     "output_type": "stream",
     "text": [
      " 25%|██▌       | 1/4 [00:04<00:12,  4.16s/it]"
     ]
    },
    {
     "name": "stdout",
     "output_type": "stream",
     "text": [
      "Done starting up a new browser!\n",
      "Done parsing the JavaScript data to HTML!\n",
      "All done start_url(). Hello!\n"
     ]
    },
    {
     "name": "stderr",
     "output_type": "stream",
     "text": [
      " 50%|█████     | 2/4 [00:08<00:08,  4.09s/it]"
     ]
    },
    {
     "name": "stdout",
     "output_type": "stream",
     "text": [
      "Done starting up a new browser!\n",
      "Done parsing the JavaScript data to HTML!\n",
      "All done start_url(). Hello!\n"
     ]
    },
    {
     "name": "stderr",
     "output_type": "stream",
     "text": [
      " 75%|███████▌  | 3/4 [00:12<00:04,  4.24s/it]"
     ]
    },
    {
     "name": "stdout",
     "output_type": "stream",
     "text": [
      "Done starting up a new browser!\n",
      "Done parsing the JavaScript data to HTML!\n",
      "All done start_url(). Hello!\n"
     ]
    },
    {
     "name": "stderr",
     "output_type": "stream",
     "text": [
      "100%|██████████| 4/4 [00:17<00:00,  4.37s/it]\n",
      "100%|██████████| 4/4 [00:00<00:00, 51.76it/s]\n"
     ]
    },
    {
     "name": "stdout",
     "output_type": "stream",
     "text": [
      "Done removing the noise!\n",
      "Done removing the noise!\n",
      "Done removing the noise!\n",
      "Done removing the noise!\n",
      "All done shutdown(). Goodbye!\n",
      "None\n"
     ]
    },
    {
     "name": "stderr",
     "output_type": "stream",
     "text": [
      "Traceback (most recent call last):\n",
      "  File \"/Users/domolm/Library/CloudStorage/GoogleDrive-domokomod5@gmail.com/My Drive/Learning/easyJapanese/easyjapanese2/complete.py\", line 46, in test\n",
      "    raise LengthError('An unexpected error has occured with some or all of the four inputs.')\n",
      "easyjapanese2.complete.LengthError: An unexpected error has occured with some or all of the four inputs.\n"
     ]
    },
    {
     "data": {
      "text/html": [
       "<div>\n",
       "<style scoped>\n",
       "    .dataframe tbody tr th:only-of-type {\n",
       "        vertical-align: middle;\n",
       "    }\n",
       "\n",
       "    .dataframe tbody tr th {\n",
       "        vertical-align: top;\n",
       "    }\n",
       "\n",
       "    .dataframe thead th {\n",
       "        text-align: right;\n",
       "    }\n",
       "</style>\n",
       "<table border=\"1\" class=\"dataframe\">\n",
       "  <thead>\n",
       "    <tr style=\"text-align: right;\">\n",
       "      <th></th>\n",
       "      <th>Date</th>\n",
       "      <th>Easy URL</th>\n",
       "      <th>Easy article</th>\n",
       "      <th>Regular URL</th>\n",
       "      <th>Regular article</th>\n",
       "    </tr>\n",
       "  </thead>\n",
       "  <tbody>\n",
       "    <tr>\n",
       "      <th>0</th>\n",
       "      <td>2022-11-29</td>\n",
       "      <td>https://www3.nhk.or.jp/news/easy/k100139064610...</td>\n",
       "      <td>これから新型コロナウイルスとインフルエンザがうつる人が増えて、病院が混む心配があります。厚生...</td>\n",
       "      <td>https://www3.nhk.or.jp/news/html/20221128/k100...</td>\n",
       "      <td>新型コロナウイルスとインフルエンザの感染の有無を同時に調べることができる抗原検査キットについ...</td>\n",
       "    </tr>\n",
       "    <tr>\n",
       "      <th>1</th>\n",
       "      <td>2022-11-29</td>\n",
       "      <td>https://www3.nhk.or.jp/news/easy/k100139054310...</td>\n",
       "      <td>12月は忘年会の季節です。レストランの予約をするウェブサイトによると、12月の予約は、新型コ...</td>\n",
       "      <td>https://www3.nhk.or.jp/news/html/20221128/k100...</td>\n",
       "      <td>ことしの忘年会シーズンの全国の飲食店の予約がコロナ禍前のおよそ7割まで回復していることがわか...</td>\n",
       "    </tr>\n",
       "    <tr>\n",
       "      <th>2</th>\n",
       "      <td>2022-11-29</td>\n",
       "      <td>https://www3.nhk.or.jp/news/easy/k100139041810...</td>\n",
       "      <td>皇居の中にある「乾通り」は、600mぐらいの道に8種類のもみじの木が70本ぐらいあります。今...</td>\n",
       "      <td>https://www3.nhk.or.jp/news/html/20221126/k100...</td>\n",
       "      <td>紅葉が見頃を迎えた皇居の「乾通り」が3年ぶりに一般公開され、多くの人でにぎわっています。「乾...</td>\n",
       "    </tr>\n",
       "    <tr>\n",
       "      <th>3</th>\n",
       "      <td>2022-11-29</td>\n",
       "      <td>https://www3.nhk.or.jp/news/easy/k100139048910...</td>\n",
       "      <td>東京大学は、女性の先生の割合を25％以上にしたいと考えていますが、今年5月には16％ぐらいで...</td>\n",
       "      <td>https://www3.nhk.or.jp/news/html/20221127/k100...</td>\n",
       "      <td>東京大学は、令和9年度までに女性の教授と准教授、合わせておよそ300人を新たに採用する計画を...</td>\n",
       "    </tr>\n",
       "    <tr>\n",
       "      <th>0</th>\n",
       "      <td>2022-11-25</td>\n",
       "      <td>https://www3.nhk.or.jp/news/easy/k100139031310...</td>\n",
       "      <td>塩野義製薬の「ゾコーバ」は、新型コロナウイルスの薬です。日本の会社が初めて作った口から飲む薬...</td>\n",
       "      <td>https://www3.nhk.or.jp/news/html/20221125/k100...</td>\n",
       "      <td>塩野義製薬が開発し国に承認された新型コロナの飲み薬「ゾコーバ」は、当初の予定を前倒しし、週明...</td>\n",
       "    </tr>\n",
       "    <tr>\n",
       "      <th>...</th>\n",
       "      <td>...</td>\n",
       "      <td>...</td>\n",
       "      <td>...</td>\n",
       "      <td>...</td>\n",
       "      <td>...</td>\n",
       "    </tr>\n",
       "    <tr>\n",
       "      <th>964</th>\n",
       "      <td>2021-11-26</td>\n",
       "      <td>https://www3.nhk.or.jp/news/easy/k100133620810...</td>\n",
       "      <td>今月8日から留学生などの外国人が日本に入ることができるようになりました。しかし、1日に入る人...</td>\n",
       "      <td>https://www3.nhk.or.jp/news/html/20211125/k100...</td>\n",
       "      <td>新型コロナウイルスの水際対策が緩和された一方で、いまだに、多くの留学生が入国できない状況が続...</td>\n",
       "    </tr>\n",
       "    <tr>\n",
       "      <th>965</th>\n",
       "      <td>2021-11-26</td>\n",
       "      <td>https://www3.nhk.or.jp/news/easy/k100133596110...</td>\n",
       "      <td>毎年冬に、札幌市では凍った道の滑りやすさを知らせる「つるつる予報」が出ます。この予報は、天気...</td>\n",
       "      <td>https://www3.nhk.or.jp/news/html/20211124/k100...</td>\n",
       "      <td>Not Found</td>\n",
       "    </tr>\n",
       "    <tr>\n",
       "      <th>966</th>\n",
       "      <td>2021-11-26</td>\n",
       "      <td>https://www3.nhk.or.jp/news/easy/k100133604110...</td>\n",
       "      <td>お年寄りや障害がある人が生活している施設では、新型コロナウイルスがうつらないように、家族など...</td>\n",
       "      <td>https://www3.nhk.or.jp/news/html/20211125/k100...</td>\n",
       "      <td>厚生労働省は、全国の高齢者施設などに対し、面会を希望する家族がワクチン接種を済ませている場合...</td>\n",
       "    </tr>\n",
       "    <tr>\n",
       "      <th>967</th>\n",
       "      <td>2021-11-25</td>\n",
       "      <td>https://www3.nhk.or.jp/news/easy/k100133597710...</td>\n",
       "      <td>1986年11月21日、東京の伊豆大島で大きな噴火がありました。溶岩が家の近くまで来て、住ん...</td>\n",
       "      <td>https://www3.nhk.or.jp/news/html/20211124/k100...</td>\n",
       "      <td>Not Found</td>\n",
       "    </tr>\n",
       "    <tr>\n",
       "      <th>968</th>\n",
       "      <td>2021-11-25</td>\n",
       "      <td>https://www3.nhk.or.jp/news/easy/k100133596810...</td>\n",
       "      <td>今年8月、小笠原諸島の海の中で火山が噴火しました。噴火で出た軽石が、沖縄県や東京都の伊豆諸島...</td>\n",
       "      <td>https://www3.nhk.or.jp/news/html/20211124/k100...</td>\n",
       "      <td>Not Found</td>\n",
       "    </tr>\n",
       "  </tbody>\n",
       "</table>\n",
       "<p>973 rows × 5 columns</p>\n",
       "</div>"
      ],
      "text/plain": [
       "          Date                                           Easy URL  \\\n",
       "0   2022-11-29  https://www3.nhk.or.jp/news/easy/k100139064610...   \n",
       "1   2022-11-29  https://www3.nhk.or.jp/news/easy/k100139054310...   \n",
       "2   2022-11-29  https://www3.nhk.or.jp/news/easy/k100139041810...   \n",
       "3   2022-11-29  https://www3.nhk.or.jp/news/easy/k100139048910...   \n",
       "0   2022-11-25  https://www3.nhk.or.jp/news/easy/k100139031310...   \n",
       "..         ...                                                ...   \n",
       "964 2021-11-26  https://www3.nhk.or.jp/news/easy/k100133620810...   \n",
       "965 2021-11-26  https://www3.nhk.or.jp/news/easy/k100133596110...   \n",
       "966 2021-11-26  https://www3.nhk.or.jp/news/easy/k100133604110...   \n",
       "967 2021-11-25  https://www3.nhk.or.jp/news/easy/k100133597710...   \n",
       "968 2021-11-25  https://www3.nhk.or.jp/news/easy/k100133596810...   \n",
       "\n",
       "                                          Easy article  \\\n",
       "0    これから新型コロナウイルスとインフルエンザがうつる人が増えて、病院が混む心配があります。厚生...   \n",
       "1    12月は忘年会の季節です。レストランの予約をするウェブサイトによると、12月の予約は、新型コ...   \n",
       "2    皇居の中にある「乾通り」は、600mぐらいの道に8種類のもみじの木が70本ぐらいあります。今...   \n",
       "3    東京大学は、女性の先生の割合を25％以上にしたいと考えていますが、今年5月には16％ぐらいで...   \n",
       "0    塩野義製薬の「ゾコーバ」は、新型コロナウイルスの薬です。日本の会社が初めて作った口から飲む薬...   \n",
       "..                                                 ...   \n",
       "964  今月8日から留学生などの外国人が日本に入ることができるようになりました。しかし、1日に入る人...   \n",
       "965  毎年冬に、札幌市では凍った道の滑りやすさを知らせる「つるつる予報」が出ます。この予報は、天気...   \n",
       "966  お年寄りや障害がある人が生活している施設では、新型コロナウイルスがうつらないように、家族など...   \n",
       "967  1986年11月21日、東京の伊豆大島で大きな噴火がありました。溶岩が家の近くまで来て、住ん...   \n",
       "968  今年8月、小笠原諸島の海の中で火山が噴火しました。噴火で出た軽石が、沖縄県や東京都の伊豆諸島...   \n",
       "\n",
       "                                           Regular URL  \\\n",
       "0    https://www3.nhk.or.jp/news/html/20221128/k100...   \n",
       "1    https://www3.nhk.or.jp/news/html/20221128/k100...   \n",
       "2    https://www3.nhk.or.jp/news/html/20221126/k100...   \n",
       "3    https://www3.nhk.or.jp/news/html/20221127/k100...   \n",
       "0    https://www3.nhk.or.jp/news/html/20221125/k100...   \n",
       "..                                                 ...   \n",
       "964  https://www3.nhk.or.jp/news/html/20211125/k100...   \n",
       "965  https://www3.nhk.or.jp/news/html/20211124/k100...   \n",
       "966  https://www3.nhk.or.jp/news/html/20211125/k100...   \n",
       "967  https://www3.nhk.or.jp/news/html/20211124/k100...   \n",
       "968  https://www3.nhk.or.jp/news/html/20211124/k100...   \n",
       "\n",
       "                                       Regular article  \n",
       "0    新型コロナウイルスとインフルエンザの感染の有無を同時に調べることができる抗原検査キットについ...  \n",
       "1    ことしの忘年会シーズンの全国の飲食店の予約がコロナ禍前のおよそ7割まで回復していることがわか...  \n",
       "2    紅葉が見頃を迎えた皇居の「乾通り」が3年ぶりに一般公開され、多くの人でにぎわっています。「乾...  \n",
       "3    東京大学は、令和9年度までに女性の教授と准教授、合わせておよそ300人を新たに採用する計画を...  \n",
       "0    塩野義製薬が開発し国に承認された新型コロナの飲み薬「ゾコーバ」は、当初の予定を前倒しし、週明...  \n",
       "..                                                 ...  \n",
       "964  新型コロナウイルスの水際対策が緩和された一方で、いまだに、多くの留学生が入国できない状況が続...  \n",
       "965                                          Not Found  \n",
       "966  厚生労働省は、全国の高齢者施設などに対し、面会を希望する家族がワクチン接種を済ませている場合...  \n",
       "967                                          Not Found  \n",
       "968                                          Not Found  \n",
       "\n",
       "[973 rows x 5 columns]"
      ]
     },
     "execution_count": 3,
     "metadata": {},
     "output_type": "execute_result"
    }
   ],
   "source": [
    "EasyJapanese()"
   ]
  },
  {
   "cell_type": "code",
   "execution_count": 4,
   "metadata": {},
   "outputs": [
    {
     "data": {
      "text/html": [
       "<div>\n",
       "<style scoped>\n",
       "    .dataframe tbody tr th:only-of-type {\n",
       "        vertical-align: middle;\n",
       "    }\n",
       "\n",
       "    .dataframe tbody tr th {\n",
       "        vertical-align: top;\n",
       "    }\n",
       "\n",
       "    .dataframe thead th {\n",
       "        text-align: right;\n",
       "    }\n",
       "</style>\n",
       "<table border=\"1\" class=\"dataframe\">\n",
       "  <thead>\n",
       "    <tr style=\"text-align: right;\">\n",
       "      <th></th>\n",
       "      <th>Date</th>\n",
       "      <th>Easy URL</th>\n",
       "      <th>Easy article</th>\n",
       "      <th>Regular URL</th>\n",
       "      <th>Regular article</th>\n",
       "    </tr>\n",
       "  </thead>\n",
       "  <tbody>\n",
       "    <tr>\n",
       "      <th>0</th>\n",
       "      <td>2022-11-29</td>\n",
       "      <td>https://www3.nhk.or.jp/news/easy/k100139064610...</td>\n",
       "      <td>これから新型コロナウイルスとインフルエンザがうつる人が増えて、病院が混む心配があります。厚生...</td>\n",
       "      <td>https://www3.nhk.or.jp/news/html/20221128/k100...</td>\n",
       "      <td>新型コロナウイルスとインフルエンザの感染の有無を同時に調べることができる抗原検査キットについ...</td>\n",
       "    </tr>\n",
       "    <tr>\n",
       "      <th>1</th>\n",
       "      <td>2022-11-29</td>\n",
       "      <td>https://www3.nhk.or.jp/news/easy/k100139054310...</td>\n",
       "      <td>12月は忘年会の季節です。レストランの予約をするウェブサイトによると、12月の予約は、新型コ...</td>\n",
       "      <td>https://www3.nhk.or.jp/news/html/20221128/k100...</td>\n",
       "      <td>ことしの忘年会シーズンの全国の飲食店の予約がコロナ禍前のおよそ7割まで回復していることがわか...</td>\n",
       "    </tr>\n",
       "    <tr>\n",
       "      <th>2</th>\n",
       "      <td>2022-11-29</td>\n",
       "      <td>https://www3.nhk.or.jp/news/easy/k100139041810...</td>\n",
       "      <td>皇居の中にある「乾通り」は、600mぐらいの道に8種類のもみじの木が70本ぐらいあります。今...</td>\n",
       "      <td>https://www3.nhk.or.jp/news/html/20221126/k100...</td>\n",
       "      <td>紅葉が見頃を迎えた皇居の「乾通り」が3年ぶりに一般公開され、多くの人でにぎわっています。「乾...</td>\n",
       "    </tr>\n",
       "    <tr>\n",
       "      <th>3</th>\n",
       "      <td>2022-11-29</td>\n",
       "      <td>https://www3.nhk.or.jp/news/easy/k100139048910...</td>\n",
       "      <td>東京大学は、女性の先生の割合を25％以上にしたいと考えていますが、今年5月には16％ぐらいで...</td>\n",
       "      <td>https://www3.nhk.or.jp/news/html/20221127/k100...</td>\n",
       "      <td>東京大学は、令和9年度までに女性の教授と准教授、合わせておよそ300人を新たに採用する計画を...</td>\n",
       "    </tr>\n",
       "    <tr>\n",
       "      <th>4</th>\n",
       "      <td>2022-11-25</td>\n",
       "      <td>https://www3.nhk.or.jp/news/easy/k100139031310...</td>\n",
       "      <td>塩野義製薬の「ゾコーバ」は、新型コロナウイルスの薬です。日本の会社が初めて作った口から飲む薬...</td>\n",
       "      <td>https://www3.nhk.or.jp/news/html/20221125/k100...</td>\n",
       "      <td>塩野義製薬が開発し国に承認された新型コロナの飲み薬「ゾコーバ」は、当初の予定を前倒しし、週明...</td>\n",
       "    </tr>\n",
       "    <tr>\n",
       "      <th>...</th>\n",
       "      <td>...</td>\n",
       "      <td>...</td>\n",
       "      <td>...</td>\n",
       "      <td>...</td>\n",
       "      <td>...</td>\n",
       "    </tr>\n",
       "    <tr>\n",
       "      <th>968</th>\n",
       "      <td>2021-11-26</td>\n",
       "      <td>https://www3.nhk.or.jp/news/easy/k100133620810...</td>\n",
       "      <td>今月8日から留学生などの外国人が日本に入ることができるようになりました。しかし、1日に入る人...</td>\n",
       "      <td>https://www3.nhk.or.jp/news/html/20211125/k100...</td>\n",
       "      <td>新型コロナウイルスの水際対策が緩和された一方で、いまだに、多くの留学生が入国できない状況が続...</td>\n",
       "    </tr>\n",
       "    <tr>\n",
       "      <th>969</th>\n",
       "      <td>2021-11-26</td>\n",
       "      <td>https://www3.nhk.or.jp/news/easy/k100133596110...</td>\n",
       "      <td>毎年冬に、札幌市では凍った道の滑りやすさを知らせる「つるつる予報」が出ます。この予報は、天気...</td>\n",
       "      <td>https://www3.nhk.or.jp/news/html/20211124/k100...</td>\n",
       "      <td>Not Found</td>\n",
       "    </tr>\n",
       "    <tr>\n",
       "      <th>970</th>\n",
       "      <td>2021-11-26</td>\n",
       "      <td>https://www3.nhk.or.jp/news/easy/k100133604110...</td>\n",
       "      <td>お年寄りや障害がある人が生活している施設では、新型コロナウイルスがうつらないように、家族など...</td>\n",
       "      <td>https://www3.nhk.or.jp/news/html/20211125/k100...</td>\n",
       "      <td>厚生労働省は、全国の高齢者施設などに対し、面会を希望する家族がワクチン接種を済ませている場合...</td>\n",
       "    </tr>\n",
       "    <tr>\n",
       "      <th>971</th>\n",
       "      <td>2021-11-25</td>\n",
       "      <td>https://www3.nhk.or.jp/news/easy/k100133597710...</td>\n",
       "      <td>1986年11月21日、東京の伊豆大島で大きな噴火がありました。溶岩が家の近くまで来て、住ん...</td>\n",
       "      <td>https://www3.nhk.or.jp/news/html/20211124/k100...</td>\n",
       "      <td>Not Found</td>\n",
       "    </tr>\n",
       "    <tr>\n",
       "      <th>972</th>\n",
       "      <td>2021-11-25</td>\n",
       "      <td>https://www3.nhk.or.jp/news/easy/k100133596810...</td>\n",
       "      <td>今年8月、小笠原諸島の海の中で火山が噴火しました。噴火で出た軽石が、沖縄県や東京都の伊豆諸島...</td>\n",
       "      <td>https://www3.nhk.or.jp/news/html/20211124/k100...</td>\n",
       "      <td>Not Found</td>\n",
       "    </tr>\n",
       "  </tbody>\n",
       "</table>\n",
       "<p>973 rows × 5 columns</p>\n",
       "</div>"
      ],
      "text/plain": [
       "           Date                                           Easy URL  \\\n",
       "0    2022-11-29  https://www3.nhk.or.jp/news/easy/k100139064610...   \n",
       "1    2022-11-29  https://www3.nhk.or.jp/news/easy/k100139054310...   \n",
       "2    2022-11-29  https://www3.nhk.or.jp/news/easy/k100139041810...   \n",
       "3    2022-11-29  https://www3.nhk.or.jp/news/easy/k100139048910...   \n",
       "4    2022-11-25  https://www3.nhk.or.jp/news/easy/k100139031310...   \n",
       "..          ...                                                ...   \n",
       "968  2021-11-26  https://www3.nhk.or.jp/news/easy/k100133620810...   \n",
       "969  2021-11-26  https://www3.nhk.or.jp/news/easy/k100133596110...   \n",
       "970  2021-11-26  https://www3.nhk.or.jp/news/easy/k100133604110...   \n",
       "971  2021-11-25  https://www3.nhk.or.jp/news/easy/k100133597710...   \n",
       "972  2021-11-25  https://www3.nhk.or.jp/news/easy/k100133596810...   \n",
       "\n",
       "                                          Easy article  \\\n",
       "0    これから新型コロナウイルスとインフルエンザがうつる人が増えて、病院が混む心配があります。厚生...   \n",
       "1    12月は忘年会の季節です。レストランの予約をするウェブサイトによると、12月の予約は、新型コ...   \n",
       "2    皇居の中にある「乾通り」は、600mぐらいの道に8種類のもみじの木が70本ぐらいあります。今...   \n",
       "3    東京大学は、女性の先生の割合を25％以上にしたいと考えていますが、今年5月には16％ぐらいで...   \n",
       "4    塩野義製薬の「ゾコーバ」は、新型コロナウイルスの薬です。日本の会社が初めて作った口から飲む薬...   \n",
       "..                                                 ...   \n",
       "968  今月8日から留学生などの外国人が日本に入ることができるようになりました。しかし、1日に入る人...   \n",
       "969  毎年冬に、札幌市では凍った道の滑りやすさを知らせる「つるつる予報」が出ます。この予報は、天気...   \n",
       "970  お年寄りや障害がある人が生活している施設では、新型コロナウイルスがうつらないように、家族など...   \n",
       "971  1986年11月21日、東京の伊豆大島で大きな噴火がありました。溶岩が家の近くまで来て、住ん...   \n",
       "972  今年8月、小笠原諸島の海の中で火山が噴火しました。噴火で出た軽石が、沖縄県や東京都の伊豆諸島...   \n",
       "\n",
       "                                           Regular URL  \\\n",
       "0    https://www3.nhk.or.jp/news/html/20221128/k100...   \n",
       "1    https://www3.nhk.or.jp/news/html/20221128/k100...   \n",
       "2    https://www3.nhk.or.jp/news/html/20221126/k100...   \n",
       "3    https://www3.nhk.or.jp/news/html/20221127/k100...   \n",
       "4    https://www3.nhk.or.jp/news/html/20221125/k100...   \n",
       "..                                                 ...   \n",
       "968  https://www3.nhk.or.jp/news/html/20211125/k100...   \n",
       "969  https://www3.nhk.or.jp/news/html/20211124/k100...   \n",
       "970  https://www3.nhk.or.jp/news/html/20211125/k100...   \n",
       "971  https://www3.nhk.or.jp/news/html/20211124/k100...   \n",
       "972  https://www3.nhk.or.jp/news/html/20211124/k100...   \n",
       "\n",
       "                                       Regular article  \n",
       "0    新型コロナウイルスとインフルエンザの感染の有無を同時に調べることができる抗原検査キットについ...  \n",
       "1    ことしの忘年会シーズンの全国の飲食店の予約がコロナ禍前のおよそ7割まで回復していることがわか...  \n",
       "2    紅葉が見頃を迎えた皇居の「乾通り」が3年ぶりに一般公開され、多くの人でにぎわっています。「乾...  \n",
       "3    東京大学は、令和9年度までに女性の教授と准教授、合わせておよそ300人を新たに採用する計画を...  \n",
       "4    塩野義製薬が開発し国に承認された新型コロナの飲み薬「ゾコーバ」は、当初の予定を前倒しし、週明...  \n",
       "..                                                 ...  \n",
       "968  新型コロナウイルスの水際対策が緩和された一方で、いまだに、多くの留学生が入国できない状況が続...  \n",
       "969                                          Not Found  \n",
       "970  厚生労働省は、全国の高齢者施設などに対し、面会を希望する家族がワクチン接種を済ませている場合...  \n",
       "971                                          Not Found  \n",
       "972                                          Not Found  \n",
       "\n",
       "[973 rows x 5 columns]"
      ]
     },
     "execution_count": 4,
     "metadata": {},
     "output_type": "execute_result"
    }
   ],
   "source": [
    "import pandas as pd\n",
    "pd.read_csv('./data/data_pool_test.csv')"
   ]
  },
  {
   "cell_type": "code",
   "execution_count": null,
   "metadata": {},
   "outputs": [],
   "source": []
  }
 ],
 "metadata": {
  "kernelspec": {
   "display_name": "Python 3.10.8 64-bit ('3.10.8')",
   "language": "python",
   "name": "python3"
  },
  "language_info": {
   "codemirror_mode": {
    "name": "ipython",
    "version": 3
   },
   "file_extension": ".py",
   "mimetype": "text/x-python",
   "name": "python",
   "nbconvert_exporter": "python",
   "pygments_lexer": "ipython3",
   "version": "3.10.8"
  },
  "orig_nbformat": 4,
  "vscode": {
   "interpreter": {
    "hash": "898d3c6109607cac4667983f45c21ef7997d125c9b4da8292caa90a38e599c34"
   }
  }
 },
 "nbformat": 4,
 "nbformat_minor": 2
}
