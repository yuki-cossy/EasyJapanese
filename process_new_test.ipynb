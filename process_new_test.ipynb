{
 "cells": [
  {
   "cell_type": "code",
   "execution_count": 1,
   "metadata": {},
   "outputs": [],
   "source": [
    "import traceback\n",
    "from easyjapanese2 import EasyJapanese"
   ]
  },
  {
   "cell_type": "code",
   "execution_count": 2,
   "metadata": {},
   "outputs": [
    {
     "name": "stdout",
     "output_type": "stream",
     "text": [
      "Done starting up a new browser!\n",
      "Done displyaing the list of the URLs!\n",
      "Done parsing the JavaScript data!\n",
      "Done reading the data as HTML!\n",
      "All done start_url(). Hello!\n",
      "Done getting the raw text of URLs!\n"
     ]
    },
    {
     "name": "stderr",
     "output_type": "stream",
     "text": [
      "100%|██████████| 4/4 [00:00<00:00, 8112.77it/s]\n"
     ]
    },
    {
     "name": "stdout",
     "output_type": "stream",
     "text": [
      "Done extracting the raw URL!\n",
      "Done retrieving the URL!\n",
      "Done extracting the raw URL!\n",
      "Done retrieving the URL!\n",
      "Done extracting the raw URL!\n",
      "Done retrieving the URL!\n",
      "Done extracting the raw URL!\n",
      "Done retrieving the URL!\n",
      "Done retrieving the URLs!\n",
      "All done with easy_urls! Great job!\n",
      "All done shutdown(). Goodbye!\n"
     ]
    },
    {
     "name": "stderr",
     "output_type": "stream",
     "text": [
      "  0%|          | 0/4 [00:00<?, ?it/s]"
     ]
    },
    {
     "name": "stdout",
     "output_type": "stream",
     "text": [
      "Done starting up a new browswer!\n",
      "Done parsing the JavaScript data!\n",
      "Done reading the data as HTML!\n",
      "All done start_extract(). Hello!\n"
     ]
    },
    {
     "name": "stderr",
     "output_type": "stream",
     "text": [
      " 25%|██▌       | 1/4 [00:02<00:08,  2.96s/it]"
     ]
    },
    {
     "name": "stdout",
     "output_type": "stream",
     "text": [
      "Done starting up a new browswer!\n",
      "Done parsing the JavaScript data!\n",
      "Done reading the data as HTML!\n",
      "All done start_extract(). Hello!\n"
     ]
    },
    {
     "name": "stderr",
     "output_type": "stream",
     "text": [
      " 50%|█████     | 2/4 [00:08<00:08,  4.21s/it]"
     ]
    },
    {
     "name": "stdout",
     "output_type": "stream",
     "text": [
      "Done starting up a new browswer!\n",
      "Done parsing the JavaScript data!\n",
      "Done reading the data as HTML!\n",
      "All done start_extract(). Hello!\n"
     ]
    },
    {
     "name": "stderr",
     "output_type": "stream",
     "text": [
      " 75%|███████▌  | 3/4 [00:12<00:04,  4.11s/it]"
     ]
    },
    {
     "name": "stdout",
     "output_type": "stream",
     "text": [
      "Done starting up a new browswer!\n",
      "Done parsing the JavaScript data!\n",
      "Done reading the data as HTML!\n",
      "All done start_extract(). Hello!\n"
     ]
    },
    {
     "name": "stderr",
     "output_type": "stream",
     "text": [
      "100%|██████████| 4/4 [00:15<00:00,  3.89s/it]\n",
      "100%|██████████| 4/4 [00:00<00:00, 106.96it/s]\n"
     ]
    },
    {
     "name": "stdout",
     "output_type": "stream",
     "text": [
      "Done removing the noise!\n",
      "Done removing the noise!\n",
      "Done removing the noise!\n",
      "Done removing the noise!\n",
      "Done retrieving the articles!\n",
      "All done with easy_articles! Great job!\n",
      "All done shutdown(). Goodbye!\n"
     ]
    },
    {
     "name": "stderr",
     "output_type": "stream",
     "text": [
      "  0%|          | 0/4 [00:00<?, ?it/s]"
     ]
    },
    {
     "name": "stdout",
     "output_type": "stream",
     "text": [
      "Done starting up a new browser!\n",
      "Done parsing the JavaScript data!\n",
      "Done reading the data as HTML!\n",
      "All done start_url(). Hello!\n"
     ]
    },
    {
     "name": "stderr",
     "output_type": "stream",
     "text": [
      " 25%|██▌       | 1/4 [00:03<00:09,  3.17s/it]"
     ]
    },
    {
     "name": "stdout",
     "output_type": "stream",
     "text": [
      "Done starting up a new browser!\n",
      "Done parsing the JavaScript data!\n",
      "Done reading the data as HTML!\n",
      "All done start_url(). Hello!\n"
     ]
    },
    {
     "name": "stderr",
     "output_type": "stream",
     "text": [
      " 50%|█████     | 2/4 [00:06<00:06,  3.07s/it]"
     ]
    },
    {
     "name": "stdout",
     "output_type": "stream",
     "text": [
      "Done starting up a new browser!\n",
      "Done parsing the JavaScript data!\n",
      "Done reading the data as HTML!\n",
      "All done start_url(). Hello!\n"
     ]
    },
    {
     "name": "stderr",
     "output_type": "stream",
     "text": [
      " 75%|███████▌  | 3/4 [00:09<00:03,  3.03s/it]"
     ]
    },
    {
     "name": "stdout",
     "output_type": "stream",
     "text": [
      "Done starting up a new browser!\n",
      "Done parsing the JavaScript data!\n",
      "Done reading the data as HTML!\n",
      "All done start_url(). Hello!\n"
     ]
    },
    {
     "name": "stderr",
     "output_type": "stream",
     "text": [
      "100%|██████████| 4/4 [00:11<00:00,  3.00s/it]\n",
      "100%|██████████| 4/4 [00:00<00:00, 197.94it/s]\n"
     ]
    },
    {
     "name": "stdout",
     "output_type": "stream",
     "text": [
      "Done retrieving the URL!\n",
      "Done retrieving the URL!\n",
      "Done retrieving the URL!\n",
      "Done retrieving the URL!\n",
      "Done retrieving the URLs!\n",
      "All done with regular_urls! Great job!\n",
      "All done shutdown(). Goodbye!\n"
     ]
    },
    {
     "name": "stderr",
     "output_type": "stream",
     "text": [
      "  0%|          | 0/4 [00:00<?, ?it/s]"
     ]
    },
    {
     "name": "stdout",
     "output_type": "stream",
     "text": [
      "Done starting up a new browser!\n",
      "Done parsing the JavaScript data!\n",
      "Done reading the data as HTML!\n",
      "All done start_url(). Hello!\n"
     ]
    },
    {
     "name": "stderr",
     "output_type": "stream",
     "text": [
      " 25%|██▌       | 1/4 [00:03<00:09,  3.26s/it]"
     ]
    },
    {
     "name": "stdout",
     "output_type": "stream",
     "text": [
      "Done starting up a new browser!\n",
      "Done parsing the JavaScript data!\n",
      "Done reading the data as HTML!\n",
      "All done start_url(). Hello!\n"
     ]
    },
    {
     "name": "stderr",
     "output_type": "stream",
     "text": [
      " 50%|█████     | 2/4 [00:08<00:08,  4.31s/it]"
     ]
    },
    {
     "name": "stdout",
     "output_type": "stream",
     "text": [
      "Done starting up a new browser!\n",
      "Done parsing the JavaScript data!\n",
      "Done reading the data as HTML!\n",
      "All done start_url(). Hello!\n"
     ]
    },
    {
     "name": "stderr",
     "output_type": "stream",
     "text": [
      " 75%|███████▌  | 3/4 [00:12<00:04,  4.18s/it]"
     ]
    },
    {
     "name": "stdout",
     "output_type": "stream",
     "text": [
      "Done starting up a new browser!\n",
      "Done parsing the JavaScript data!\n",
      "Done reading the data as HTML!\n",
      "All done start_url(). Hello!\n"
     ]
    },
    {
     "name": "stderr",
     "output_type": "stream",
     "text": [
      "100%|██████████| 4/4 [00:16<00:00,  4.02s/it]\n",
      "100%|██████████| 4/4 [00:00<00:00, 32.98it/s]\n"
     ]
    },
    {
     "name": "stdout",
     "output_type": "stream",
     "text": [
      "Done removing the noise!\n",
      "Done removing the noise!\n",
      "Done removing the noise!\n",
      "Done removing the noise!\n",
      "Done retrieving the articles!\n",
      "All done with regular_articles! Great job!\n",
      "All done shutdown(). Goodbye!\n",
      "None\n"
     ]
    },
    {
     "name": "stderr",
     "output_type": "stream",
     "text": [
      "Traceback (most recent call last):\n",
      "  File \"/Users/domolm/Library/CloudStorage/GoogleDrive-domokomod5@gmail.com/My Drive/Learning/easyJapanese_local_only/easyjapanese2/complete.py\", line 84, in input_length_test\n",
      "    raise LengthError('An unexpected error has occured with some or all of the four inputs.')\n",
      "easyjapanese2.complete.LengthError: An unexpected error has occured with some or all of the four inputs.\n"
     ]
    },
    {
     "data": {
      "text/html": [
       "<div>\n",
       "<style scoped>\n",
       "    .dataframe tbody tr th:only-of-type {\n",
       "        vertical-align: middle;\n",
       "    }\n",
       "\n",
       "    .dataframe tbody tr th {\n",
       "        vertical-align: top;\n",
       "    }\n",
       "\n",
       "    .dataframe thead th {\n",
       "        text-align: right;\n",
       "    }\n",
       "</style>\n",
       "<table border=\"1\" class=\"dataframe\">\n",
       "  <thead>\n",
       "    <tr style=\"text-align: right;\">\n",
       "      <th></th>\n",
       "      <th>Date</th>\n",
       "      <th>Easy URL</th>\n",
       "      <th>Easy article</th>\n",
       "      <th>Regular URL</th>\n",
       "      <th>Regular article</th>\n",
       "    </tr>\n",
       "  </thead>\n",
       "  <tbody>\n",
       "    <tr>\n",
       "      <th>0</th>\n",
       "      <td>2022-11-30</td>\n",
       "      <td>https://www3.nhk.or.jp/news/easy/k100139070610...</td>\n",
       "      <td>新型コロナウイルスの問題で、政府は今まで、食事のときは少ない人数で、話をしないで食べるように...</td>\n",
       "      <td>https://www3.nhk.or.jp/news/html/20221129/k100...</td>\n",
       "      <td>新型コロナ対策の基本的対処方針で「黙食」の記述がなくなったことを受け、文部科学省は給食の時の...</td>\n",
       "    </tr>\n",
       "    <tr>\n",
       "      <th>1</th>\n",
       "      <td>2022-11-30</td>\n",
       "      <td>https://www3.nhk.or.jp/news/easy/k100139073410...</td>\n",
       "      <td>「かいけつゾロリ」は子どものための本で、きつねの「ゾロリ」たちが冒険をする話です。原ゆたかさ...</td>\n",
       "      <td>https://www3.nhk.or.jp/news/html/20221129/k100...</td>\n",
       "      <td>ことし7月に71巻目が発行された人気の児童書「かいけつゾロリ」シリーズが、同じ作者が物語とイ...</td>\n",
       "    </tr>\n",
       "    <tr>\n",
       "      <th>2</th>\n",
       "      <td>2022-11-30</td>\n",
       "      <td>https://www3.nhk.or.jp/news/easy/k100139065910...</td>\n",
       "      <td>お年寄りが転んで亡くなる事故が増えています。厚生労働省によると、おととしは65歳以上の885...</td>\n",
       "      <td>https://www3.nhk.or.jp/news/html/20221129/k100...</td>\n",
       "      <td>全日本柔道連盟は、柔道の受け身などの動作が高齢者の転倒事故の防止に役立つとして「転び方プロジ...</td>\n",
       "    </tr>\n",
       "    <tr>\n",
       "      <th>3</th>\n",
       "      <td>2022-11-30</td>\n",
       "      <td>https://www3.nhk.or.jp/news/easy/k100139062510...</td>\n",
       "      <td>徳島県小松島市の高校では、料理の仕事の資格を取るために勉強している生徒たちが給食を作っていま...</td>\n",
       "      <td>https://www3.nhk.or.jp/news/html/20221128/k100...</td>\n",
       "      <td>生徒たちが給食を調理する徳島県小松島市の高校で、県内の企業が開発した食用コオロギの粉末を使っ...</td>\n",
       "    </tr>\n",
       "    <tr>\n",
       "      <th>0</th>\n",
       "      <td>2022-11-29</td>\n",
       "      <td>https://www3.nhk.or.jp/news/easy/k100139064610...</td>\n",
       "      <td>これから新型コロナウイルスとインフルエンザがうつる人が増えて、病院が混む心配があります。厚生...</td>\n",
       "      <td>https://www3.nhk.or.jp/news/html/20221128/k100...</td>\n",
       "      <td>新型コロナウイルスとインフルエンザの感染の有無を同時に調べることができる抗原検査キットについ...</td>\n",
       "    </tr>\n",
       "    <tr>\n",
       "      <th>...</th>\n",
       "      <td>...</td>\n",
       "      <td>...</td>\n",
       "      <td>...</td>\n",
       "      <td>...</td>\n",
       "      <td>...</td>\n",
       "    </tr>\n",
       "    <tr>\n",
       "      <th>972</th>\n",
       "      <td>2021-11-26</td>\n",
       "      <td>https://www3.nhk.or.jp/news/easy/k100133620810...</td>\n",
       "      <td>今月8日から留学生などの外国人が日本に入ることができるようになりました。しかし、1日に入る人...</td>\n",
       "      <td>https://www3.nhk.or.jp/news/html/20211125/k100...</td>\n",
       "      <td>新型コロナウイルスの水際対策が緩和された一方で、いまだに、多くの留学生が入国できない状況が続...</td>\n",
       "    </tr>\n",
       "    <tr>\n",
       "      <th>973</th>\n",
       "      <td>2021-11-26</td>\n",
       "      <td>https://www3.nhk.or.jp/news/easy/k100133596110...</td>\n",
       "      <td>毎年冬に、札幌市では凍った道の滑りやすさを知らせる「つるつる予報」が出ます。この予報は、天気...</td>\n",
       "      <td>https://www3.nhk.or.jp/news/html/20211124/k100...</td>\n",
       "      <td>Not Found</td>\n",
       "    </tr>\n",
       "    <tr>\n",
       "      <th>974</th>\n",
       "      <td>2021-11-26</td>\n",
       "      <td>https://www3.nhk.or.jp/news/easy/k100133604110...</td>\n",
       "      <td>お年寄りや障害がある人が生活している施設では、新型コロナウイルスがうつらないように、家族など...</td>\n",
       "      <td>https://www3.nhk.or.jp/news/html/20211125/k100...</td>\n",
       "      <td>厚生労働省は、全国の高齢者施設などに対し、面会を希望する家族がワクチン接種を済ませている場合...</td>\n",
       "    </tr>\n",
       "    <tr>\n",
       "      <th>975</th>\n",
       "      <td>2021-11-25</td>\n",
       "      <td>https://www3.nhk.or.jp/news/easy/k100133597710...</td>\n",
       "      <td>1986年11月21日、東京の伊豆大島で大きな噴火がありました。溶岩が家の近くまで来て、住ん...</td>\n",
       "      <td>https://www3.nhk.or.jp/news/html/20211124/k100...</td>\n",
       "      <td>Not Found</td>\n",
       "    </tr>\n",
       "    <tr>\n",
       "      <th>976</th>\n",
       "      <td>2021-11-25</td>\n",
       "      <td>https://www3.nhk.or.jp/news/easy/k100133596810...</td>\n",
       "      <td>今年8月、小笠原諸島の海の中で火山が噴火しました。噴火で出た軽石が、沖縄県や東京都の伊豆諸島...</td>\n",
       "      <td>https://www3.nhk.or.jp/news/html/20211124/k100...</td>\n",
       "      <td>Not Found</td>\n",
       "    </tr>\n",
       "  </tbody>\n",
       "</table>\n",
       "<p>981 rows × 5 columns</p>\n",
       "</div>"
      ],
      "text/plain": [
       "          Date                                           Easy URL  \\\n",
       "0   2022-11-30  https://www3.nhk.or.jp/news/easy/k100139070610...   \n",
       "1   2022-11-30  https://www3.nhk.or.jp/news/easy/k100139073410...   \n",
       "2   2022-11-30  https://www3.nhk.or.jp/news/easy/k100139065910...   \n",
       "3   2022-11-30  https://www3.nhk.or.jp/news/easy/k100139062510...   \n",
       "0   2022-11-29  https://www3.nhk.or.jp/news/easy/k100139064610...   \n",
       "..         ...                                                ...   \n",
       "972 2021-11-26  https://www3.nhk.or.jp/news/easy/k100133620810...   \n",
       "973 2021-11-26  https://www3.nhk.or.jp/news/easy/k100133596110...   \n",
       "974 2021-11-26  https://www3.nhk.or.jp/news/easy/k100133604110...   \n",
       "975 2021-11-25  https://www3.nhk.or.jp/news/easy/k100133597710...   \n",
       "976 2021-11-25  https://www3.nhk.or.jp/news/easy/k100133596810...   \n",
       "\n",
       "                                          Easy article  \\\n",
       "0    新型コロナウイルスの問題で、政府は今まで、食事のときは少ない人数で、話をしないで食べるように...   \n",
       "1    「かいけつゾロリ」は子どものための本で、きつねの「ゾロリ」たちが冒険をする話です。原ゆたかさ...   \n",
       "2    お年寄りが転んで亡くなる事故が増えています。厚生労働省によると、おととしは65歳以上の885...   \n",
       "3    徳島県小松島市の高校では、料理の仕事の資格を取るために勉強している生徒たちが給食を作っていま...   \n",
       "0    これから新型コロナウイルスとインフルエンザがうつる人が増えて、病院が混む心配があります。厚生...   \n",
       "..                                                 ...   \n",
       "972  今月8日から留学生などの外国人が日本に入ることができるようになりました。しかし、1日に入る人...   \n",
       "973  毎年冬に、札幌市では凍った道の滑りやすさを知らせる「つるつる予報」が出ます。この予報は、天気...   \n",
       "974  お年寄りや障害がある人が生活している施設では、新型コロナウイルスがうつらないように、家族など...   \n",
       "975  1986年11月21日、東京の伊豆大島で大きな噴火がありました。溶岩が家の近くまで来て、住ん...   \n",
       "976  今年8月、小笠原諸島の海の中で火山が噴火しました。噴火で出た軽石が、沖縄県や東京都の伊豆諸島...   \n",
       "\n",
       "                                           Regular URL  \\\n",
       "0    https://www3.nhk.or.jp/news/html/20221129/k100...   \n",
       "1    https://www3.nhk.or.jp/news/html/20221129/k100...   \n",
       "2    https://www3.nhk.or.jp/news/html/20221129/k100...   \n",
       "3    https://www3.nhk.or.jp/news/html/20221128/k100...   \n",
       "0    https://www3.nhk.or.jp/news/html/20221128/k100...   \n",
       "..                                                 ...   \n",
       "972  https://www3.nhk.or.jp/news/html/20211125/k100...   \n",
       "973  https://www3.nhk.or.jp/news/html/20211124/k100...   \n",
       "974  https://www3.nhk.or.jp/news/html/20211125/k100...   \n",
       "975  https://www3.nhk.or.jp/news/html/20211124/k100...   \n",
       "976  https://www3.nhk.or.jp/news/html/20211124/k100...   \n",
       "\n",
       "                                       Regular article  \n",
       "0    新型コロナ対策の基本的対処方針で「黙食」の記述がなくなったことを受け、文部科学省は給食の時の...  \n",
       "1    ことし7月に71巻目が発行された人気の児童書「かいけつゾロリ」シリーズが、同じ作者が物語とイ...  \n",
       "2    全日本柔道連盟は、柔道の受け身などの動作が高齢者の転倒事故の防止に役立つとして「転び方プロジ...  \n",
       "3    生徒たちが給食を調理する徳島県小松島市の高校で、県内の企業が開発した食用コオロギの粉末を使っ...  \n",
       "0    新型コロナウイルスとインフルエンザの感染の有無を同時に調べることができる抗原検査キットについ...  \n",
       "..                                                 ...  \n",
       "972  新型コロナウイルスの水際対策が緩和された一方で、いまだに、多くの留学生が入国できない状況が続...  \n",
       "973                                          Not Found  \n",
       "974  厚生労働省は、全国の高齢者施設などに対し、面会を希望する家族がワクチン接種を済ませている場合...  \n",
       "975                                          Not Found  \n",
       "976                                          Not Found  \n",
       "\n",
       "[981 rows x 5 columns]"
      ]
     },
     "execution_count": 2,
     "metadata": {},
     "output_type": "execute_result"
    }
   ],
   "source": [
    "EasyJapanese()"
   ]
  },
  {
   "cell_type": "code",
   "execution_count": 4,
   "metadata": {},
   "outputs": [
    {
     "data": {
      "text/html": [
       "<div>\n",
       "<style scoped>\n",
       "    .dataframe tbody tr th:only-of-type {\n",
       "        vertical-align: middle;\n",
       "    }\n",
       "\n",
       "    .dataframe tbody tr th {\n",
       "        vertical-align: top;\n",
       "    }\n",
       "\n",
       "    .dataframe thead th {\n",
       "        text-align: right;\n",
       "    }\n",
       "</style>\n",
       "<table border=\"1\" class=\"dataframe\">\n",
       "  <thead>\n",
       "    <tr style=\"text-align: right;\">\n",
       "      <th></th>\n",
       "      <th>Date</th>\n",
       "      <th>Easy URL</th>\n",
       "      <th>Easy article</th>\n",
       "      <th>Regular URL</th>\n",
       "      <th>Regular article</th>\n",
       "    </tr>\n",
       "  </thead>\n",
       "  <tbody>\n",
       "    <tr>\n",
       "      <th>0</th>\n",
       "      <td>2022-11-30</td>\n",
       "      <td>https://www3.nhk.or.jp/news/easy/k100139070610...</td>\n",
       "      <td>新型コロナウイルスの問題で、政府は今まで、食事のときは少ない人数で、話をしないで食べるように...</td>\n",
       "      <td>https://www3.nhk.or.jp/news/html/20221129/k100...</td>\n",
       "      <td>新型コロナ対策の基本的対処方針で「黙食」の記述がなくなったことを受け、文部科学省は給食の時の...</td>\n",
       "    </tr>\n",
       "    <tr>\n",
       "      <th>1</th>\n",
       "      <td>2022-11-30</td>\n",
       "      <td>https://www3.nhk.or.jp/news/easy/k100139073410...</td>\n",
       "      <td>「かいけつゾロリ」は子どものための本で、きつねの「ゾロリ」たちが冒険をする話です。原ゆたかさ...</td>\n",
       "      <td>https://www3.nhk.or.jp/news/html/20221129/k100...</td>\n",
       "      <td>ことし7月に71巻目が発行された人気の児童書「かいけつゾロリ」シリーズが、同じ作者が物語とイ...</td>\n",
       "    </tr>\n",
       "    <tr>\n",
       "      <th>2</th>\n",
       "      <td>2022-11-30</td>\n",
       "      <td>https://www3.nhk.or.jp/news/easy/k100139065910...</td>\n",
       "      <td>お年寄りが転んで亡くなる事故が増えています。厚生労働省によると、おととしは65歳以上の885...</td>\n",
       "      <td>https://www3.nhk.or.jp/news/html/20221129/k100...</td>\n",
       "      <td>全日本柔道連盟は、柔道の受け身などの動作が高齢者の転倒事故の防止に役立つとして「転び方プロジ...</td>\n",
       "    </tr>\n",
       "    <tr>\n",
       "      <th>3</th>\n",
       "      <td>2022-11-30</td>\n",
       "      <td>https://www3.nhk.or.jp/news/easy/k100139062510...</td>\n",
       "      <td>徳島県小松島市の高校では、料理の仕事の資格を取るために勉強している生徒たちが給食を作っていま...</td>\n",
       "      <td>https://www3.nhk.or.jp/news/html/20221128/k100...</td>\n",
       "      <td>生徒たちが給食を調理する徳島県小松島市の高校で、県内の企業が開発した食用コオロギの粉末を使っ...</td>\n",
       "    </tr>\n",
       "    <tr>\n",
       "      <th>4</th>\n",
       "      <td>2022-11-29</td>\n",
       "      <td>https://www3.nhk.or.jp/news/easy/k100139064610...</td>\n",
       "      <td>これから新型コロナウイルスとインフルエンザがうつる人が増えて、病院が混む心配があります。厚生...</td>\n",
       "      <td>https://www3.nhk.or.jp/news/html/20221128/k100...</td>\n",
       "      <td>新型コロナウイルスとインフルエンザの感染の有無を同時に調べることができる抗原検査キットについ...</td>\n",
       "    </tr>\n",
       "    <tr>\n",
       "      <th>...</th>\n",
       "      <td>...</td>\n",
       "      <td>...</td>\n",
       "      <td>...</td>\n",
       "      <td>...</td>\n",
       "      <td>...</td>\n",
       "    </tr>\n",
       "    <tr>\n",
       "      <th>976</th>\n",
       "      <td>2021-11-26</td>\n",
       "      <td>https://www3.nhk.or.jp/news/easy/k100133620810...</td>\n",
       "      <td>今月8日から留学生などの外国人が日本に入ることができるようになりました。しかし、1日に入る人...</td>\n",
       "      <td>https://www3.nhk.or.jp/news/html/20211125/k100...</td>\n",
       "      <td>新型コロナウイルスの水際対策が緩和された一方で、いまだに、多くの留学生が入国できない状況が続...</td>\n",
       "    </tr>\n",
       "    <tr>\n",
       "      <th>977</th>\n",
       "      <td>2021-11-26</td>\n",
       "      <td>https://www3.nhk.or.jp/news/easy/k100133596110...</td>\n",
       "      <td>毎年冬に、札幌市では凍った道の滑りやすさを知らせる「つるつる予報」が出ます。この予報は、天気...</td>\n",
       "      <td>https://www3.nhk.or.jp/news/html/20211124/k100...</td>\n",
       "      <td>Not Found</td>\n",
       "    </tr>\n",
       "    <tr>\n",
       "      <th>978</th>\n",
       "      <td>2021-11-26</td>\n",
       "      <td>https://www3.nhk.or.jp/news/easy/k100133604110...</td>\n",
       "      <td>お年寄りや障害がある人が生活している施設では、新型コロナウイルスがうつらないように、家族など...</td>\n",
       "      <td>https://www3.nhk.or.jp/news/html/20211125/k100...</td>\n",
       "      <td>厚生労働省は、全国の高齢者施設などに対し、面会を希望する家族がワクチン接種を済ませている場合...</td>\n",
       "    </tr>\n",
       "    <tr>\n",
       "      <th>979</th>\n",
       "      <td>2021-11-25</td>\n",
       "      <td>https://www3.nhk.or.jp/news/easy/k100133597710...</td>\n",
       "      <td>1986年11月21日、東京の伊豆大島で大きな噴火がありました。溶岩が家の近くまで来て、住ん...</td>\n",
       "      <td>https://www3.nhk.or.jp/news/html/20211124/k100...</td>\n",
       "      <td>Not Found</td>\n",
       "    </tr>\n",
       "    <tr>\n",
       "      <th>980</th>\n",
       "      <td>2021-11-25</td>\n",
       "      <td>https://www3.nhk.or.jp/news/easy/k100133596810...</td>\n",
       "      <td>今年8月、小笠原諸島の海の中で火山が噴火しました。噴火で出た軽石が、沖縄県や東京都の伊豆諸島...</td>\n",
       "      <td>https://www3.nhk.or.jp/news/html/20211124/k100...</td>\n",
       "      <td>Not Found</td>\n",
       "    </tr>\n",
       "  </tbody>\n",
       "</table>\n",
       "<p>981 rows × 5 columns</p>\n",
       "</div>"
      ],
      "text/plain": [
       "           Date                                           Easy URL  \\\n",
       "0    2022-11-30  https://www3.nhk.or.jp/news/easy/k100139070610...   \n",
       "1    2022-11-30  https://www3.nhk.or.jp/news/easy/k100139073410...   \n",
       "2    2022-11-30  https://www3.nhk.or.jp/news/easy/k100139065910...   \n",
       "3    2022-11-30  https://www3.nhk.or.jp/news/easy/k100139062510...   \n",
       "4    2022-11-29  https://www3.nhk.or.jp/news/easy/k100139064610...   \n",
       "..          ...                                                ...   \n",
       "976  2021-11-26  https://www3.nhk.or.jp/news/easy/k100133620810...   \n",
       "977  2021-11-26  https://www3.nhk.or.jp/news/easy/k100133596110...   \n",
       "978  2021-11-26  https://www3.nhk.or.jp/news/easy/k100133604110...   \n",
       "979  2021-11-25  https://www3.nhk.or.jp/news/easy/k100133597710...   \n",
       "980  2021-11-25  https://www3.nhk.or.jp/news/easy/k100133596810...   \n",
       "\n",
       "                                          Easy article  \\\n",
       "0    新型コロナウイルスの問題で、政府は今まで、食事のときは少ない人数で、話をしないで食べるように...   \n",
       "1    「かいけつゾロリ」は子どものための本で、きつねの「ゾロリ」たちが冒険をする話です。原ゆたかさ...   \n",
       "2    お年寄りが転んで亡くなる事故が増えています。厚生労働省によると、おととしは65歳以上の885...   \n",
       "3    徳島県小松島市の高校では、料理の仕事の資格を取るために勉強している生徒たちが給食を作っていま...   \n",
       "4    これから新型コロナウイルスとインフルエンザがうつる人が増えて、病院が混む心配があります。厚生...   \n",
       "..                                                 ...   \n",
       "976  今月8日から留学生などの外国人が日本に入ることができるようになりました。しかし、1日に入る人...   \n",
       "977  毎年冬に、札幌市では凍った道の滑りやすさを知らせる「つるつる予報」が出ます。この予報は、天気...   \n",
       "978  お年寄りや障害がある人が生活している施設では、新型コロナウイルスがうつらないように、家族など...   \n",
       "979  1986年11月21日、東京の伊豆大島で大きな噴火がありました。溶岩が家の近くまで来て、住ん...   \n",
       "980  今年8月、小笠原諸島の海の中で火山が噴火しました。噴火で出た軽石が、沖縄県や東京都の伊豆諸島...   \n",
       "\n",
       "                                           Regular URL  \\\n",
       "0    https://www3.nhk.or.jp/news/html/20221129/k100...   \n",
       "1    https://www3.nhk.or.jp/news/html/20221129/k100...   \n",
       "2    https://www3.nhk.or.jp/news/html/20221129/k100...   \n",
       "3    https://www3.nhk.or.jp/news/html/20221128/k100...   \n",
       "4    https://www3.nhk.or.jp/news/html/20221128/k100...   \n",
       "..                                                 ...   \n",
       "976  https://www3.nhk.or.jp/news/html/20211125/k100...   \n",
       "977  https://www3.nhk.or.jp/news/html/20211124/k100...   \n",
       "978  https://www3.nhk.or.jp/news/html/20211125/k100...   \n",
       "979  https://www3.nhk.or.jp/news/html/20211124/k100...   \n",
       "980  https://www3.nhk.or.jp/news/html/20211124/k100...   \n",
       "\n",
       "                                       Regular article  \n",
       "0    新型コロナ対策の基本的対処方針で「黙食」の記述がなくなったことを受け、文部科学省は給食の時の...  \n",
       "1    ことし7月に71巻目が発行された人気の児童書「かいけつゾロリ」シリーズが、同じ作者が物語とイ...  \n",
       "2    全日本柔道連盟は、柔道の受け身などの動作が高齢者の転倒事故の防止に役立つとして「転び方プロジ...  \n",
       "3    生徒たちが給食を調理する徳島県小松島市の高校で、県内の企業が開発した食用コオロギの粉末を使っ...  \n",
       "4    新型コロナウイルスとインフルエンザの感染の有無を同時に調べることができる抗原検査キットについ...  \n",
       "..                                                 ...  \n",
       "976  新型コロナウイルスの水際対策が緩和された一方で、いまだに、多くの留学生が入国できない状況が続...  \n",
       "977                                          Not Found  \n",
       "978  厚生労働省は、全国の高齢者施設などに対し、面会を希望する家族がワクチン接種を済ませている場合...  \n",
       "979                                          Not Found  \n",
       "980                                          Not Found  \n",
       "\n",
       "[981 rows x 5 columns]"
      ]
     },
     "execution_count": 4,
     "metadata": {},
     "output_type": "execute_result"
    }
   ],
   "source": [
    "import pandas as pd\n",
    "data = pd.read_csv('./data/data_pool.csv')"
   ]
  },
  {
   "cell_type": "markdown",
   "metadata": {},
   "source": [
    "# 中身確認用"
   ]
  },
  {
   "cell_type": "code",
   "execution_count": 8,
   "metadata": {},
   "outputs": [
    {
     "data": {
      "text/plain": [
       "'「かいけつゾロリ」は子どものための本で、きつねの「ゾロリ」たちが冒険をする話です。原ゆたかさんがかきました。1987年に最初の本が出てから話が続いていて、今年7月に71番目の本が出ました。29日、東京で、「かいけつゾロリ」がギネス世界記録になったことを紹介する式がありました。子どものための本で、同じ人が話と絵をかいた本が71番目まで出たのは世界で初めてだと説明がありました。原さんは「子どもたちの応援があって、今まで続けることができました。ゾロリはいつも失敗しますが、また頑張ります。あきらめないでもうちょっと頑張ってみようという気持ちを、読む人に持ってほしいと思っています」と話していました。'"
      ]
     },
     "execution_count": 8,
     "metadata": {},
     "output_type": "execute_result"
    }
   ],
   "source": [
    "data['Easy article'][1]"
   ]
  },
  {
   "cell_type": "markdown",
   "metadata": {},
   "source": [
    "# docstring 記述用メモ"
   ]
  },
  {
   "cell_type": "code",
   "execution_count": 1,
   "metadata": {},
   "outputs": [
    {
     "data": {
      "text/plain": [
       "selenium.webdriver.chrome.service.Service"
      ]
     },
     "execution_count": 1,
     "metadata": {},
     "output_type": "execute_result"
    }
   ],
   "source": [
    "from selenium.webdriver.chrome import service as fs\n",
    "service = fs.Service(executable_path='/Users/domolm/.pyenv/versions/3.10.8/lib/python3.10/site-packages/selenium/chromedriver')\n",
    "\n",
    "type(service)"
   ]
  },
  {
   "cell_type": "code",
   "execution_count": 4,
   "metadata": {},
   "outputs": [
    {
     "data": {
      "text/plain": [
       "selenium.webdriver.chrome.options.Options"
      ]
     },
     "execution_count": 4,
     "metadata": {},
     "output_type": "execute_result"
    }
   ],
   "source": [
    "from selenium.webdriver.chrome.options import Options\n",
    "options = Options()\n",
    "options.add_argument('--window-size=1920,1200')\n",
    "options.add_argument('--headless')\n",
    "type(options)"
   ]
  },
  {
   "cell_type": "code",
   "execution_count": 11,
   "metadata": {},
   "outputs": [
    {
     "name": "stdout",
     "output_type": "stream",
     "text": [
      "<class 'selenium.webdriver.chrome.webdriver.WebDriver'>\n"
     ]
    }
   ],
   "source": [
    "from selenium import webdriver # webdriver 操作一般用\n",
    "driver = webdriver.Chrome(options=options, service=service)\n",
    "driver.quit()\n",
    "print(type(driver))\n",
    "driver.quit()"
   ]
  },
  {
   "cell_type": "code",
   "execution_count": 13,
   "metadata": {},
   "outputs": [
    {
     "name": "stdout",
     "output_type": "stream",
     "text": [
      "<class 'str'>\n"
     ]
    }
   ],
   "source": [
    "print(type(''))"
   ]
  },
  {
   "cell_type": "code",
   "execution_count": 12,
   "metadata": {},
   "outputs": [
    {
     "name": "stdout",
     "output_type": "stream",
     "text": [
      "<class 'bytes'>\n"
     ]
    }
   ],
   "source": [
    "BASE_URL = 'https://www3.nhk.or.jp/news/easy'\n",
    "driver = webdriver.Chrome(options=options, service=service)\n",
    "driver.get(BASE_URL)\n",
    "html_article = driver.page_source.encode('utf-8')\n",
    "print(type(html_article))\n",
    "driver.quit()"
   ]
  },
  {
   "cell_type": "code",
   "execution_count": 14,
   "metadata": {},
   "outputs": [
    {
     "name": "stdout",
     "output_type": "stream",
     "text": [
      "<class 'bs4.BeautifulSoup'>\n"
     ]
    }
   ],
   "source": [
    "from bs4 import BeautifulSoup\n",
    "soup_url = BeautifulSoup(html_article, 'html.parser')\n",
    "print(type(soup_url))"
   ]
  },
  {
   "cell_type": "code",
   "execution_count": 15,
   "metadata": {},
   "outputs": [
    {
     "data": {
      "text/plain": [
       "bs4.element.ResultSet"
      ]
     },
     "execution_count": 15,
     "metadata": {},
     "output_type": "execute_result"
    }
   ],
   "source": [
    "raw = soup_url.select('#js-archives-list > a')\n",
    "type(raw)"
   ]
  },
  {
   "cell_type": "code",
   "execution_count": 19,
   "metadata": {},
   "outputs": [
    {
     "data": {
      "text/plain": [
       "bs4.element.Tag"
      ]
     },
     "execution_count": 19,
     "metadata": {},
     "output_type": "execute_result"
    }
   ],
   "source": [
    "type(raw[0])"
   ]
  },
  {
   "cell_type": "code",
   "execution_count": 16,
   "metadata": {},
   "outputs": [
    {
     "data": {
      "text/plain": [
       "str"
      ]
     },
     "execution_count": 16,
     "metadata": {},
     "output_type": "execute_result"
    }
   ],
   "source": [
    "date = soup_url.select_one('#js-pager-date').text\n",
    "type(date)"
   ]
  },
  {
   "cell_type": "code",
   "execution_count": 20,
   "metadata": {},
   "outputs": [
    {
     "data": {
      "text/plain": [
       "bool"
      ]
     },
     "execution_count": 20,
     "metadata": {},
     "output_type": "execute_result"
    }
   ],
   "source": [
    "type(True)"
   ]
  },
  {
   "cell_type": "code",
   "execution_count": 23,
   "metadata": {},
   "outputs": [
    {
     "data": {
      "text/plain": [
       "pandas.core.frame.DataFrame"
      ]
     },
     "execution_count": 23,
     "metadata": {},
     "output_type": "execute_result"
    }
   ],
   "source": [
    "import pandas as pd\n",
    "granny = pd.DataFrame({\n",
    "    'noisy': [1,2,3]\n",
    "})\n",
    "type(granny)"
   ]
  },
  {
   "cell_type": "code",
   "execution_count": 25,
   "metadata": {},
   "outputs": [
    {
     "data": {
      "text/plain": [
       "datetime.datetime"
      ]
     },
     "execution_count": 25,
     "metadata": {},
     "output_type": "execute_result"
    }
   ],
   "source": [
    "import datetime\n",
    "date_new = datetime.datetime(\n",
    "                2022, 11, 29\n",
    "                )\n",
    "type(date_new)"
   ]
  },
  {
   "cell_type": "code",
   "execution_count": null,
   "metadata": {},
   "outputs": [],
   "source": []
  }
 ],
 "metadata": {
  "kernelspec": {
   "display_name": "Python 3.10.8 64-bit ('3.10.8')",
   "language": "python",
   "name": "python3"
  },
  "language_info": {
   "codemirror_mode": {
    "name": "ipython",
    "version": 3
   },
   "file_extension": ".py",
   "mimetype": "text/x-python",
   "name": "python",
   "nbconvert_exporter": "python",
   "pygments_lexer": "ipython3",
   "version": "3.10.8"
  },
  "orig_nbformat": 4,
  "vscode": {
   "interpreter": {
    "hash": "898d3c6109607cac4667983f45c21ef7997d125c9b4da8292caa90a38e599c34"
   }
  }
 },
 "nbformat": 4,
 "nbformat_minor": 2
}
