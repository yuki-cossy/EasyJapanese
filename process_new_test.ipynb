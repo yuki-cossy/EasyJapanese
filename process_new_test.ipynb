{
 "cells": [
  {
   "cell_type": "code",
   "execution_count": 1,
   "metadata": {},
   "outputs": [],
   "source": [
    "import traceback\n",
    "from easyjapanese import EasyJapanese"
   ]
  },
  {
   "cell_type": "code",
   "execution_count": 2,
   "metadata": {},
   "outputs": [
    {
     "name": "stdout",
     "output_type": "stream",
     "text": [
      "None\n"
     ]
    },
    {
     "name": "stderr",
     "output_type": "stream",
     "text": [
      "Traceback (most recent call last):\n",
      "  File \"/var/folders/ng/b98db55j0msdb5ddc0lr6sh40000gn/T/ipykernel_87348/1657405825.py\", line 2, in <module>\n",
      "    EasyJapanese()\n",
      "  File \"/Users/domolm/Library/CloudStorage/GoogleDrive-domokomod5@gmail.com/My Drive/Learning/easyJapanese/easyjapanese/__init__.py\", line 33, in EasyJapanese\n",
      "    old_date, easy_urls = easy.get_urls_date()\n",
      "  File \"/Users/domolm/Library/CloudStorage/GoogleDrive-domokomod5@gmail.com/My Drive/Learning/easyJapanese/easyjapanese/easy.py\", line 21, in get_urls_date\n",
      "    .get_latest()\\\n",
      "AttributeError: 'NoneType' object has no attribute 'get_latest'\n"
     ]
    }
   ],
   "source": [
    "try:\n",
    "    EasyJapanese()\n",
    "except:\n",
    "    print(traceback.print_exc(limit=None))"
   ]
  },
  {
   "cell_type": "code",
   "execution_count": null,
   "metadata": {},
   "outputs": [],
   "source": []
  }
 ],
 "metadata": {
  "kernelspec": {
   "display_name": "Python 3.10.8 64-bit ('3.10.8')",
   "language": "python",
   "name": "python3"
  },
  "language_info": {
   "codemirror_mode": {
    "name": "ipython",
    "version": 3
   },
   "file_extension": ".py",
   "mimetype": "text/x-python",
   "name": "python",
   "nbconvert_exporter": "python",
   "pygments_lexer": "ipython3",
   "version": "3.10.8"
  },
  "orig_nbformat": 4,
  "vscode": {
   "interpreter": {
    "hash": "898d3c6109607cac4667983f45c21ef7997d125c9b4da8292caa90a38e599c34"
   }
  }
 },
 "nbformat": 4,
 "nbformat_minor": 2
}
