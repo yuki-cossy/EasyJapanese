{
 "cells": [
  {
   "cell_type": "code",
   "execution_count": 1,
   "metadata": {},
   "outputs": [],
   "source": [
    "from easyjapanese import EasyJapanese"
   ]
  },
  {
   "cell_type": "code",
   "execution_count": 10,
   "metadata": {},
   "outputs": [
    {
     "name": "stdout",
     "output_type": "stream",
     "text": [
      "/Users/domolm/Library/CloudStorage/GoogleDrive-domokomod5@gmail.com/My Drive/Learning/easyJapanese\n"
     ]
    }
   ],
   "source": [
    "! pwd"
   ]
  },
  {
   "cell_type": "code",
   "execution_count": 2,
   "metadata": {},
   "outputs": [
    {
     "ename": "AttributeError",
     "evalue": "'NoneType' object has no attribute 'get_latest'",
     "output_type": "error",
     "traceback": [
      "\u001b[0;31m---------------------------------------------------------------------------\u001b[0m",
      "\u001b[0;31mAttributeError\u001b[0m                            Traceback (most recent call last)",
      "Cell \u001b[0;32mIn [2], line 1\u001b[0m\n\u001b[0;32m----> 1\u001b[0m EasyJapanese()\n",
      "File \u001b[0;32m~/Library/CloudStorage/GoogleDrive-domokomod5@gmail.com/My Drive/Learning/easyJapanese/easyjapanese/__init__.py:33\u001b[0m, in \u001b[0;36mEasyJapanese\u001b[0;34m()\u001b[0m\n\u001b[1;32m     31\u001b[0m \u001b[39mdef\u001b[39;00m \u001b[39mEasyJapanese\u001b[39m():\n\u001b[1;32m     32\u001b[0m     easy \u001b[39m=\u001b[39m Easy()\n\u001b[0;32m---> 33\u001b[0m     old_date, easy_urls \u001b[39m=\u001b[39m easy\u001b[39m.\u001b[39;49mget_urls_date()\n\u001b[1;32m     34\u001b[0m     easy_articles \u001b[39m=\u001b[39m easy\u001b[39m.\u001b[39mget_articles()\n\u001b[1;32m     36\u001b[0m     regular \u001b[39m=\u001b[39m Regular()\n",
      "File \u001b[0;32m~/Library/CloudStorage/GoogleDrive-domokomod5@gmail.com/My Drive/Learning/easyJapanese/easyjapanese/easy.py:21\u001b[0m, in \u001b[0;36mEasy.get_urls_date\u001b[0;34m(self)\u001b[0m\n\u001b[1;32m     18\u001b[0m \u001b[39mdef\u001b[39;00m \u001b[39mget_urls_date\u001b[39m(\u001b[39mself\u001b[39m):\n\u001b[1;32m     19\u001b[0m     get_urls \u001b[39m=\u001b[39m Url()\n\u001b[1;32m     20\u001b[0m     \u001b[39mself\u001b[39m\u001b[39m.\u001b[39measy_urls \u001b[39m=\u001b[39m get_urls\u001b[39m.\u001b[39;49mstartup()\\\n\u001b[0;32m---> 21\u001b[0m             \u001b[39m.\u001b[39;49mget_latest()\\\n\u001b[1;32m     22\u001b[0m             \u001b[39m.\u001b[39mparse_to_html()\\\n\u001b[1;32m     23\u001b[0m             \u001b[39m.\u001b[39mget_raw()\\\n\u001b[1;32m     24\u001b[0m             \u001b[39m.\u001b[39mget_urls()\n\u001b[1;32m     25\u001b[0m     \u001b[39m# get the date as well\u001b[39;00m\n\u001b[1;32m     26\u001b[0m     \u001b[39mself\u001b[39m\u001b[39m.\u001b[39mdate \u001b[39m=\u001b[39m get_urls\u001b[39m.\u001b[39mdate\n",
      "\u001b[0;31mAttributeError\u001b[0m: 'NoneType' object has no attribute 'get_latest'"
     ]
    }
   ],
   "source": [
    "EasyJapanese()"
   ]
  },
  {
   "cell_type": "code",
   "execution_count": null,
   "metadata": {},
   "outputs": [],
   "source": []
  }
 ],
 "metadata": {
  "kernelspec": {
   "display_name": "Python 3.10.8 64-bit ('3.10.8')",
   "language": "python",
   "name": "python3"
  },
  "language_info": {
   "codemirror_mode": {
    "name": "ipython",
    "version": 3
   },
   "file_extension": ".py",
   "mimetype": "text/x-python",
   "name": "python",
   "nbconvert_exporter": "python",
   "pygments_lexer": "ipython3",
   "version": "3.10.8"
  },
  "orig_nbformat": 4,
  "vscode": {
   "interpreter": {
    "hash": "898d3c6109607cac4667983f45c21ef7997d125c9b4da8292caa90a38e599c34"
   }
  }
 },
 "nbformat": 4,
 "nbformat_minor": 2
}
