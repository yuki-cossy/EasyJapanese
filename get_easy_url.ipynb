{
 "cells": [
  {
   "cell_type": "markdown",
   "metadata": {},
   "source": [
    "# housekeeping"
   ]
  },
  {
   "cell_type": "code",
   "execution_count": 12,
   "metadata": {},
   "outputs": [],
   "source": [
    "import re\n",
    "import time\n",
    "import timeit\n",
    "from tqdm import tqdm\n",
    "\n",
    "import pandas as pd\n",
    "from selenium import webdriver # webdriver 操作一般用\n",
    "from selenium.webdriver.chrome import service as fs # Chrome を driver として設定する用\n",
    "from selenium.webdriver.chrome.options import Options # headless モードで作業する用\n",
    "from selenium.webdriver.common.by import By # find_element() で参照したい位置を特定する用\n",
    "from bs4 import BeautifulSoup "
   ]
  },
  {
   "cell_type": "markdown",
   "metadata": {},
   "source": [
    "# 基本設定"
   ]
  },
  {
   "cell_type": "code",
   "execution_count": 2,
   "metadata": {},
   "outputs": [],
   "source": [
    "# chrome driver の PATH \n",
    "DRIVER_PATH = '/Users/domolm/.pyenv/versions/3.10.8/lib/python3.10/site-packages/selenium/chromedriver'\n",
    "service = fs.Service(executable_path=DRIVER_PATH)\n",
    "\n",
    "options = Options()\n",
    "options.add_argument(\"--window-size=1920,1200\")\n",
    "# options.add_argument('--headless')"
   ]
  },
  {
   "cell_type": "markdown",
   "metadata": {},
   "source": [
    "# 起動"
   ]
  },
  {
   "cell_type": "code",
   "execution_count": 3,
   "metadata": {},
   "outputs": [],
   "source": [
    "# 起動\n",
    "driver = webdriver.Chrome(options=options, service=service)\n",
    "\n",
    "# 作業したい url を指定し、開く\n",
    "BASE_URL = 'https://www3.nhk.or.jp/news/easy'\n",
    "driver.get(BASE_URL)"
   ]
  },
  {
   "cell_type": "markdown",
   "metadata": {},
   "source": [
    "# クリックする"
   ]
  },
  {
   "cell_type": "code",
   "execution_count": 4,
   "metadata": {},
   "outputs": [],
   "source": [
    "# click して特定日付の記事一覧を表示する\n",
    "driver.execute_script('window.scrollTo(0, 1000);')\n",
    "element = driver.find_element(By.XPATH, '//*[@id=\"easy-wrapper\"]/div[2]/aside/section[2]/div[1]/a[1]')\n",
    "element.click()\n",
    "\n",
    "# driver.quit()\n"
   ]
  },
  {
   "cell_type": "markdown",
   "metadata": {},
   "source": [
    "# html データとして取得"
   ]
  },
  {
   "cell_type": "code",
   "execution_count": 5,
   "metadata": {},
   "outputs": [],
   "source": [
    "# utf-8 に変換する\n",
    "html = driver.page_source.encode('utf-8')"
   ]
  },
  {
   "cell_type": "code",
   "execution_count": 6,
   "metadata": {},
   "outputs": [],
   "source": [
    "# driver.quit()"
   ]
  },
  {
   "cell_type": "markdown",
   "metadata": {},
   "source": [
    "# Beautiful Soup 用にパースする"
   ]
  },
  {
   "cell_type": "code",
   "execution_count": 7,
   "metadata": {},
   "outputs": [],
   "source": [
    "soup = BeautifulSoup(html, 'html.parser')"
   ]
  },
  {
   "cell_type": "markdown",
   "metadata": {},
   "source": [
    "# 文章を抽出"
   ]
  },
  {
   "cell_type": "code",
   "execution_count": 8,
   "metadata": {},
   "outputs": [],
   "source": [
    "article_raw = soup.select('#js-archives-list > a')\n"
   ]
  },
  {
   "cell_type": "code",
   "execution_count": 9,
   "metadata": {},
   "outputs": [],
   "source": [
    "# %%timeit\n",
    "# href = []\n",
    "# for ref in article_raw:\n",
    "#     href.append(ref.get('href'))\n",
    "\n",
    "# hreff = pd.Series(href).str.replace(r'^./', BASE_URL+'/')\n",
    "\n",
    "\n",
    "\n",
    "# このコードは 4 件の場合は、315 µs ± 36.2 µs per loop (mean ± std. dev. of 7 runs, 1,000 loops each)"
   ]
  },
  {
   "cell_type": "code",
   "execution_count": 34,
   "metadata": {},
   "outputs": [
    {
     "name": "stderr",
     "output_type": "stream",
     "text": [
      "100%|██████████| 4/4 [00:00<00:00, 32577.12it/s]\n"
     ]
    }
   ],
   "source": [
    "# 7.67 µs ± 28.2 ns per loop (mean ± std. dev. of 7 runs, 100,000 loops each)\n",
    "href = []\n",
    "for ref in tqdm(article_raw):\n",
    "    new_url = re.sub(r'^./', BASE_URL+'/', ref.get('href'))\n",
    "    href.append(new_url)"
   ]
  },
  {
   "cell_type": "code",
   "execution_count": 52,
   "metadata": {},
   "outputs": [
    {
     "name": "stdout",
     "output_type": "stream",
     "text": [
      "0.0秒経過\n",
      "0.5秒経過\n",
      "1.0秒経過\n",
      "1.5秒経過\n",
      "2.0秒経過\n",
      "2.5秒経過\n",
      "3.0秒経過\n",
      "3.5秒経過\n",
      "4.0秒経過\n",
      "4.5秒経過\n"
     ]
    }
   ],
   "source": [
    "for i in range(10):\n",
    "    time.sleep(i*0.5)\n",
    "    print(f'{i*0.5}秒経過')"
   ]
  },
  {
   "cell_type": "code",
   "execution_count": 21,
   "metadata": {},
   "outputs": [
    {
     "data": {
      "text/plain": [
       "['https://www3.nhk.or.jp/news/easy/k10013903131000/k10013903131000.html',\n",
       " 'https://www3.nhk.or.jp/news/easy/k10013901891000/k10013901891000.html',\n",
       " 'https://www3.nhk.or.jp/news/easy/k10013901431000/k10013901431000.html',\n",
       " 'https://www3.nhk.or.jp/news/easy/k10013901261000/k10013901261000.html']"
      ]
     },
     "execution_count": 21,
     "metadata": {},
     "output_type": "execute_result"
    }
   ],
   "source": [
    "href"
   ]
  },
  {
   "cell_type": "markdown",
   "metadata": {},
   "source": [
    "# 過去分を取得する"
   ]
  },
  {
   "cell_type": "code",
   "execution_count": 36,
   "metadata": {},
   "outputs": [
    {
     "name": "stderr",
     "output_type": "stream",
     "text": [
      " 18%|█▊        | 65/365 [18:20<1:24:38, 16.93s/it]\n"
     ]
    },
    {
     "ename": "WebDriverException",
     "evalue": "Message: disconnected: Unable to receive message from renderer\n  (failed to check if window was closed: timeout: Timed out receiving message from renderer: 600.000)\n  (Session info: chrome=107.0.5304.110)\nStacktrace:\n0   chromedriver                        0x000000010a0582c8 chromedriver + 4752072\n1   chromedriver                        0x0000000109fd8463 chromedriver + 4228195\n2   chromedriver                        0x0000000109c3bb18 chromedriver + 441112\n3   chromedriver                        0x0000000109c25f4d chromedriver + 352077\n4   chromedriver                        0x0000000109c25ca2 chromedriver + 351394\n5   chromedriver                        0x0000000109c24b0d chromedriver + 346893\n6   chromedriver                        0x0000000109c24ec2 chromedriver + 347842\n7   chromedriver                        0x0000000109c24351 chromedriver + 344913\n8   chromedriver                        0x0000000109c32ec0 chromedriver + 405184\n9   chromedriver                        0x0000000109c24306 chromedriver + 344838\n10  chromedriver                        0x0000000109c258fe chromedriver + 350462\n11  chromedriver                        0x0000000109c24b0d chromedriver + 346893\n12  chromedriver                        0x0000000109c24ec2 chromedriver + 347842\n13  chromedriver                        0x0000000109c24351 chromedriver + 344913\n14  chromedriver                        0x0000000109c2ffaa chromedriver + 393130\n15  chromedriver                        0x0000000109c24306 chromedriver + 344838\n16  chromedriver                        0x0000000109c258fe chromedriver + 350462\n17  chromedriver                        0x0000000109c24b0d chromedriver + 346893\n18  chromedriver                        0x0000000109c24ec2 chromedriver + 347842\n19  chromedriver                        0x0000000109c24351 chromedriver + 344913\n20  chromedriver                        0x0000000109c2b52c chromedriver + 374060\n21  chromedriver                        0x0000000109c24306 chromedriver + 344838\n22  chromedriver                        0x0000000109c258fe chromedriver + 350462\n23  chromedriver                        0x0000000109c24b0d chromedriver + 346893\n24  chromedriver                        0x0000000109c24ec2 chromedriver + 347842\n25  chromedriver                        0x0000000109c24351 chromedriver + 344913\n26  chromedriver                        0x0000000109c1e260 chromedriver + 320096\n27  chromedriver                        0x0000000109c24306 chromedriver + 344838\n28  chromedriver                        0x0000000109c23872 chromedriver + 342130\n29  chromedriver                        0x0000000109c23a3d chromedriver + 342589\n30  chromedriver                        0x0000000109c23d37 chromedriver + 343351\n31  chromedriver                        0x0000000109c23ced chromedriver + 343277\n32  chromedriver                        0x0000000109c3d25b chromedriver + 447067\n33  chromedriver                        0x0000000109cb1768 chromedriver + 923496\n34  chromedriver                        0x0000000109c99b33 chromedriver + 826163\n35  chromedriver                        0x0000000109c6a9fd chromedriver + 633341\n36  chromedriver                        0x0000000109c6c051 chromedriver + 639057\n37  chromedriver                        0x000000010a02530e chromedriver + 4543246\n38  chromedriver                        0x000000010a029a88 chromedriver + 4561544\n39  chromedriver                        0x000000010a0316df chromedriver + 4593375\n40  chromedriver                        0x000000010a02a8fa chromedriver + 4565242\n41  chromedriver                        0x000000010a0002cf chromedriver + 4391631\n42  chromedriver                        0x000000010a0495b8 chromedriver + 4691384\n43  chromedriver                        0x000000010a049739 chromedriver + 4691769\n44  chromedriver                        0x000000010a05f81e chromedriver + 4782110\n45  libsystem_pthread.dylib             0x00007ff805d13259 _pthread_start + 125\n46  libsystem_pthread.dylib             0x00007ff805d0ec7b thread_start + 15\n",
     "output_type": "error",
     "traceback": [
      "\u001b[0;31m---------------------------------------------------------------------------\u001b[0m",
      "\u001b[0;31mWebDriverException\u001b[0m                        Traceback (most recent call last)",
      "Cell \u001b[0;32mIn [36], line 4\u001b[0m\n\u001b[1;32m      1\u001b[0m \u001b[39m# href には 11 月 25 日分が保存されており、11 月 24 日から 365 日分遡るコードを走らせる\u001b[39;00m\n\u001b[1;32m      2\u001b[0m \u001b[39mfor\u001b[39;00m i \u001b[39min\u001b[39;00m tqdm(\u001b[39mrange\u001b[39m(\u001b[39m365\u001b[39m)): \u001b[39m# 0, 1, 2, ... 364 まで\u001b[39;00m\n\u001b[1;32m      3\u001b[0m     \u001b[39m# click して特定日付の記事一覧を表示する\u001b[39;00m\n\u001b[0;32m----> 4\u001b[0m     driver\u001b[39m.\u001b[39;49mexecute_script(\u001b[39m'\u001b[39;49m\u001b[39mwindow.scrollTo(0, 1000);\u001b[39;49m\u001b[39m'\u001b[39;49m)\n\u001b[1;32m      5\u001b[0m     element \u001b[39m=\u001b[39m driver\u001b[39m.\u001b[39mfind_element(By\u001b[39m.\u001b[39mXPATH, \u001b[39m'\u001b[39m\u001b[39m//*[@id=\u001b[39m\u001b[39m\"\u001b[39m\u001b[39measy-wrapper\u001b[39m\u001b[39m\"\u001b[39m\u001b[39m]/div[2]/aside/section[2]/div[1]/a[2]\u001b[39m\u001b[39m'\u001b[39m)\n\u001b[1;32m      6\u001b[0m     element\u001b[39m.\u001b[39mclick()\n",
      "File \u001b[0;32m~/.pyenv/versions/3.10.8/lib/python3.10/site-packages/selenium/webdriver/remote/webdriver.py:506\u001b[0m, in \u001b[0;36mWebDriver.execute_script\u001b[0;34m(self, script, *args)\u001b[0m\n\u001b[1;32m    503\u001b[0m converted_args \u001b[39m=\u001b[39m \u001b[39mlist\u001b[39m(args)\n\u001b[1;32m    504\u001b[0m command \u001b[39m=\u001b[39m Command\u001b[39m.\u001b[39mW3C_EXECUTE_SCRIPT\n\u001b[0;32m--> 506\u001b[0m \u001b[39mreturn\u001b[39;00m \u001b[39mself\u001b[39;49m\u001b[39m.\u001b[39;49mexecute(command, {\u001b[39m\"\u001b[39;49m\u001b[39mscript\u001b[39;49m\u001b[39m\"\u001b[39;49m: script, \u001b[39m\"\u001b[39;49m\u001b[39margs\u001b[39;49m\u001b[39m\"\u001b[39;49m: converted_args})[\u001b[39m\"\u001b[39m\u001b[39mvalue\u001b[39m\u001b[39m\"\u001b[39m]\n",
      "File \u001b[0;32m~/.pyenv/versions/3.10.8/lib/python3.10/site-packages/selenium/webdriver/remote/webdriver.py:444\u001b[0m, in \u001b[0;36mWebDriver.execute\u001b[0;34m(self, driver_command, params)\u001b[0m\n\u001b[1;32m    442\u001b[0m response \u001b[39m=\u001b[39m \u001b[39mself\u001b[39m\u001b[39m.\u001b[39mcommand_executor\u001b[39m.\u001b[39mexecute(driver_command, params)\n\u001b[1;32m    443\u001b[0m \u001b[39mif\u001b[39;00m response:\n\u001b[0;32m--> 444\u001b[0m     \u001b[39mself\u001b[39;49m\u001b[39m.\u001b[39;49merror_handler\u001b[39m.\u001b[39;49mcheck_response(response)\n\u001b[1;32m    445\u001b[0m     response[\u001b[39m\"\u001b[39m\u001b[39mvalue\u001b[39m\u001b[39m\"\u001b[39m] \u001b[39m=\u001b[39m \u001b[39mself\u001b[39m\u001b[39m.\u001b[39m_unwrap_value(response\u001b[39m.\u001b[39mget(\u001b[39m\"\u001b[39m\u001b[39mvalue\u001b[39m\u001b[39m\"\u001b[39m, \u001b[39mNone\u001b[39;00m))\n\u001b[1;32m    446\u001b[0m     \u001b[39mreturn\u001b[39;00m response\n",
      "File \u001b[0;32m~/.pyenv/versions/3.10.8/lib/python3.10/site-packages/selenium/webdriver/remote/errorhandler.py:249\u001b[0m, in \u001b[0;36mErrorHandler.check_response\u001b[0;34m(self, response)\u001b[0m\n\u001b[1;32m    247\u001b[0m         alert_text \u001b[39m=\u001b[39m value[\u001b[39m\"\u001b[39m\u001b[39malert\u001b[39m\u001b[39m\"\u001b[39m]\u001b[39m.\u001b[39mget(\u001b[39m\"\u001b[39m\u001b[39mtext\u001b[39m\u001b[39m\"\u001b[39m)\n\u001b[1;32m    248\u001b[0m     \u001b[39mraise\u001b[39;00m exception_class(message, screen, stacktrace, alert_text)  \u001b[39m# type: ignore[call-arg]  # mypy is not smart enough here\u001b[39;00m\n\u001b[0;32m--> 249\u001b[0m \u001b[39mraise\u001b[39;00m exception_class(message, screen, stacktrace)\n",
      "\u001b[0;31mWebDriverException\u001b[0m: Message: disconnected: Unable to receive message from renderer\n  (failed to check if window was closed: timeout: Timed out receiving message from renderer: 600.000)\n  (Session info: chrome=107.0.5304.110)\nStacktrace:\n0   chromedriver                        0x000000010a0582c8 chromedriver + 4752072\n1   chromedriver                        0x0000000109fd8463 chromedriver + 4228195\n2   chromedriver                        0x0000000109c3bb18 chromedriver + 441112\n3   chromedriver                        0x0000000109c25f4d chromedriver + 352077\n4   chromedriver                        0x0000000109c25ca2 chromedriver + 351394\n5   chromedriver                        0x0000000109c24b0d chromedriver + 346893\n6   chromedriver                        0x0000000109c24ec2 chromedriver + 347842\n7   chromedriver                        0x0000000109c24351 chromedriver + 344913\n8   chromedriver                        0x0000000109c32ec0 chromedriver + 405184\n9   chromedriver                        0x0000000109c24306 chromedriver + 344838\n10  chromedriver                        0x0000000109c258fe chromedriver + 350462\n11  chromedriver                        0x0000000109c24b0d chromedriver + 346893\n12  chromedriver                        0x0000000109c24ec2 chromedriver + 347842\n13  chromedriver                        0x0000000109c24351 chromedriver + 344913\n14  chromedriver                        0x0000000109c2ffaa chromedriver + 393130\n15  chromedriver                        0x0000000109c24306 chromedriver + 344838\n16  chromedriver                        0x0000000109c258fe chromedriver + 350462\n17  chromedriver                        0x0000000109c24b0d chromedriver + 346893\n18  chromedriver                        0x0000000109c24ec2 chromedriver + 347842\n19  chromedriver                        0x0000000109c24351 chromedriver + 344913\n20  chromedriver                        0x0000000109c2b52c chromedriver + 374060\n21  chromedriver                        0x0000000109c24306 chromedriver + 344838\n22  chromedriver                        0x0000000109c258fe chromedriver + 350462\n23  chromedriver                        0x0000000109c24b0d chromedriver + 346893\n24  chromedriver                        0x0000000109c24ec2 chromedriver + 347842\n25  chromedriver                        0x0000000109c24351 chromedriver + 344913\n26  chromedriver                        0x0000000109c1e260 chromedriver + 320096\n27  chromedriver                        0x0000000109c24306 chromedriver + 344838\n28  chromedriver                        0x0000000109c23872 chromedriver + 342130\n29  chromedriver                        0x0000000109c23a3d chromedriver + 342589\n30  chromedriver                        0x0000000109c23d37 chromedriver + 343351\n31  chromedriver                        0x0000000109c23ced chromedriver + 343277\n32  chromedriver                        0x0000000109c3d25b chromedriver + 447067\n33  chromedriver                        0x0000000109cb1768 chromedriver + 923496\n34  chromedriver                        0x0000000109c99b33 chromedriver + 826163\n35  chromedriver                        0x0000000109c6a9fd chromedriver + 633341\n36  chromedriver                        0x0000000109c6c051 chromedriver + 639057\n37  chromedriver                        0x000000010a02530e chromedriver + 4543246\n38  chromedriver                        0x000000010a029a88 chromedriver + 4561544\n39  chromedriver                        0x000000010a0316df chromedriver + 4593375\n40  chromedriver                        0x000000010a02a8fa chromedriver + 4565242\n41  chromedriver                        0x000000010a0002cf chromedriver + 4391631\n42  chromedriver                        0x000000010a0495b8 chromedriver + 4691384\n43  chromedriver                        0x000000010a049739 chromedriver + 4691769\n44  chromedriver                        0x000000010a05f81e chromedriver + 4782110\n45  libsystem_pthread.dylib             0x00007ff805d13259 _pthread_start + 125\n46  libsystem_pthread.dylib             0x00007ff805d0ec7b thread_start + 15\n"
     ]
    }
   ],
   "source": [
    "# href には 11 月 25 日分が保存されており、11 月 24 日から 365 日分遡るコードを走らせる\n",
    "for i in tqdm(range(2500)): # 0, 1, 2, ... 364 まで\n",
    "    try:\n",
    "        # click して特定日付の記事一覧を表示する\n",
    "        driver.execute_script('window.scrollTo(0, 1000);')\n",
    "        element = driver.find_element(By.XPATH, '//*[@id=\"easy-wrapper\"]/div[2]/aside/section[2]/div[1]/a[2]')\n",
    "        element.click()\n",
    "\n",
    "        # utf-8 に変換する\n",
    "        html = driver.page_source.encode('utf-8')\n",
    "\n",
    "        soup = BeautifulSoup(html, 'html.parser')\n",
    "\n",
    "        article_raw = soup.select('#js-archives-list > a')\n",
    "\n",
    "        for ref in article_raw:\n",
    "            new_url = re.sub(r'^./', BASE_URL+'/', ref.get('href'))\n",
    "            href.append(new_url)\n",
    "            time.sleep(1)\n",
    "    \n",
    "            \n",
    "    except Exception as e:\n",
    "        print(f'{e}: {type(e)}')\n",
    "        date = soup.select('#js-pager-date')\n",
    "        print(f'{date}: #{len(href)}th row.')\n",
    "\n",
    "\n",
    "href"
   ]
  },
  {
   "cell_type": "code",
   "execution_count": 13,
   "metadata": {},
   "outputs": [
    {
     "name": "stdout",
     "output_type": "stream",
     "text": [
      "10\n",
      "11\n",
      "12\n",
      "13\n",
      "14\n",
      "15\n",
      "16\n",
      "17\n",
      "18\n",
      "19\n"
     ]
    }
   ],
   "source": [
    "for i in range(10, 20, 1):\n",
    "    print(i)"
   ]
  },
  {
   "cell_type": "code",
   "execution_count": 38,
   "metadata": {},
   "outputs": [
    {
     "data": {
      "text/plain": [
       "264"
      ]
     },
     "execution_count": 38,
     "metadata": {},
     "output_type": "execute_result"
    }
   ],
   "source": [
    "len(href)"
   ]
  },
  {
   "cell_type": "code",
   "execution_count": null,
   "metadata": {},
   "outputs": [],
   "source": []
  }
 ],
 "metadata": {
  "kernelspec": {
   "display_name": "Python 3.10.8 64-bit ('3.10.8')",
   "language": "python",
   "name": "python3"
  },
  "language_info": {
   "codemirror_mode": {
    "name": "ipython",
    "version": 3
   },
   "file_extension": ".py",
   "mimetype": "text/x-python",
   "name": "python",
   "nbconvert_exporter": "python",
   "pygments_lexer": "ipython3",
   "version": "3.10.8"
  },
  "orig_nbformat": 4,
  "vscode": {
   "interpreter": {
    "hash": "898d3c6109607cac4667983f45c21ef7997d125c9b4da8292caa90a38e599c34"
   }
  }
 },
 "nbformat": 4,
 "nbformat_minor": 2
}
