{
 "cells": [
  {
   "cell_type": "markdown",
   "metadata": {},
   "source": [
    "# housekeeping"
   ]
  },
  {
   "cell_type": "code",
   "execution_count": 1,
   "metadata": {},
   "outputs": [],
   "source": [
    "import re\n",
    "from selenium import webdriver # webdriver 操作一般用\n",
    "from selenium.webdriver.chrome import service as fs # Chrome を driver として設定する用\n",
    "from selenium.webdriver.chrome.options import Options # headless モードで作業する用\n",
    "from selenium.webdriver.common.by import By # find_element() で参照したい位置を特定する用\n",
    "from bs4 import BeautifulSoup "
   ]
  },
  {
   "cell_type": "markdown",
   "metadata": {},
   "source": [
    "# 基本設定"
   ]
  },
  {
   "cell_type": "code",
   "execution_count": 2,
   "metadata": {},
   "outputs": [],
   "source": [
    "# chrome driver の PATH \n",
    "DRIVER_PATH = '/Users/domolm/.pyenv/versions/3.10.8/lib/python3.10/site-packages/selenium/chromedriver'\n",
    "service = fs.Service(executable_path=DRIVER_PATH)\n",
    "\n",
    "# headless モードで取得する\n",
    "options = Options()\n",
    "options.add_argument('--headless')"
   ]
  },
  {
   "cell_type": "markdown",
   "metadata": {},
   "source": [
    "# 起動"
   ]
  },
  {
   "cell_type": "code",
   "execution_count": 3,
   "metadata": {},
   "outputs": [],
   "source": [
    "# 起動\n",
    "driver = webdriver.Chrome(options=options, service=service)\n",
    "\n",
    "# 作業したい url を指定し、開く\n",
    "base_url = 'https://www3.nhk.or.jp/news/html/20221119/k10013897051000.html'\n",
    "driver.get(base_url)"
   ]
  },
  {
   "cell_type": "markdown",
   "metadata": {},
   "source": [
    "# html データとして取得"
   ]
  },
  {
   "cell_type": "code",
   "execution_count": 4,
   "metadata": {},
   "outputs": [],
   "source": [
    "# utf-8 に変換する\n",
    "html = driver.page_source.encode('utf-8')\n",
    "\n",
    "driver.quit()"
   ]
  },
  {
   "cell_type": "markdown",
   "metadata": {},
   "source": [
    "# Beautiful Soup 用にパースする"
   ]
  },
  {
   "cell_type": "code",
   "execution_count": 5,
   "metadata": {},
   "outputs": [],
   "source": [
    "soup = BeautifulSoup(html, 'html.parser')"
   ]
  },
  {
   "cell_type": "markdown",
   "metadata": {},
   "source": [
    "# '続きを読む' と文中タイトルを削除"
   ]
  },
  {
   "cell_type": "code",
   "execution_count": 6,
   "metadata": {},
   "outputs": [],
   "source": [
    "for n in soup(['nav']):\n",
    "    n.decompose()\n",
    "\n",
    "for t in soup(['h2']):\n",
    "    t.decompose()"
   ]
  },
  {
   "cell_type": "markdown",
   "metadata": {},
   "source": [
    "# 文章を抽出"
   ]
  },
  {
   "cell_type": "code",
   "execution_count": 7,
   "metadata": {},
   "outputs": [
    {
     "data": {
      "text/plain": [
       "'\\n\\n養殖魚の餌に使われる魚粉の代わりに害虫のアブの一種を育てて餌として使うプロジェクトが進められ、19日、養殖した魚の試食が行われました。魚の餌となる魚粉は世界的に需要が拡大していて、昆虫で置き換えられれば、水産資源利用の効率化や将来の食料の確保にもつながると期待されています。\\n\\n\\n魚の養殖の際に餌として使われる魚粉は世界的な養殖業の拡大で需要が急激に伸びている一方、魚の資源の減少もあって価格が高騰しています。\\n\\n\\n\\n\\nお茶の水女子大学の由良敬教授などのグループは、魚粉に代わる新たな餌として昆虫に注目し、害虫のアブの一種「アメリカミズアブ」を餌にするため安定的に育てる技術の研究を進めてきました。\\n\\n\\n\\n\\n\\n19日は東京都内で未来の食を考えるシンポジウムが開かれ、由良教授が、餌の魚粉の半分を「アメリカミズアブ」に置き換えて魚を養殖しても、成長に差はなかったと報告しました。\\n\\n\\n\\n\\n\\n続いて、実際にアブを混ぜた餌で育てたニジマスの刺身の試食が行われ、参加した研究者などは、風味や脂の乗りなどを従来の餌で育てたニジマスと比べて食べながら「言われないと気付かないくらいの差で、おいしかったです」などと話していました。由良教授は「昆虫の活用方法を広げて食料の確保に不安がない未来を目指したい」と話していました。\\n\\n\\n\\n昆虫の利用はたんぱく質不足を補い食料問題の解決にもつながると考えられていて、魚の餌としての利用についても国や自治体の研究所や大学が連携して研究が進められています。農研機構＝農業・食品産業技術総合研究機構のグループは、体長2センチほどの北アメリカ原産のアブ「アメリカミズアブ」を魚の餌として安定的に大量に供給するための研究を進めています。「アメリカミズアブ」は、卵から、餌として活用できる大きさの幼虫になるまで3週間程度と成長が速いうえ野菜や果物など食品の残りかすを食べて育つということで、ごみの削減や食品ロスの問題の解決にもつながる可能性があるとしています。研究グループは温度や餌の種類、卵の集め方など最も効率的にアブを育てて利用するための条件を探る実験を進めていて、昆虫利用技術研究領域の安田哲也研究領域長は「家畜のように人の手で飼い慣らし安定的に供給できるようにすることで、食品ロスとたんぱく源の確保の問題を同時に解決したい」と話していました。\\n\\n\\n\\n\\n\\nまた、静岡県水産・海洋技術研究所では実際にアメリカミズアブを魚粉に代わる魚の餌として利用するため、養殖しているニジマスにアブを混ぜた餌を与えてどのような割合で混ぜるのがよいかや、餌の大きさなどを研究しています。別の研究所で行われた養殖のマダイにアブを混ぜた餌を与えた実験では、餌のうちの魚粉の半分を置き換えてもマダイの成長に差がないことが分かり、この研究所で同様の餌をニジマスに与えても成長の程度に差はほとんど見られていないということです。\\n\\n\\n\\n\\n\\n静岡県水産・海洋技術研究所の倉石祐主任研究員は「餌をただあげるだけでは魚はなかなか食べてくれないので、どんな工夫をすれば食べるのか検証しています。昆虫を利用することで魚の養殖を持続可能なものにしていきたい」と話していました。\\n\\n\\n\\n'"
      ]
     },
     "execution_count": 7,
     "metadata": {},
     "output_type": "execute_result"
    }
   ],
   "source": [
    "article_raw = soup.select_one('#main > article.module.module--detail--v3 > section > section').text\n",
    "article_raw"
   ]
  },
  {
   "cell_type": "markdown",
   "metadata": {},
   "source": [
    "# 余計な文字を削除する"
   ]
  },
  {
   "cell_type": "code",
   "execution_count": 9,
   "metadata": {},
   "outputs": [
    {
     "data": {
      "text/plain": [
       "['養殖魚の餌に使われる魚粉の代わりに害虫のアブの一種を育てて餌として使うプロジェクトが進められ、19日、養殖した魚の試食が行われました。',\n",
       " '魚の餌となる魚粉は世界的に需要が拡大していて、昆虫で置き換えられれば、水産資源利用の効率化や将来の食料の確保にもつながると期待されています。',\n",
       " '魚の養殖の際に餌として使われる魚粉は世界的な養殖業の拡大で需要が急激に伸びている一方、魚の資源の減少もあって価格が高騰しています。',\n",
       " 'お茶の水女子大学の由良敬教授などのグループは、魚粉に代わる新たな餌として昆虫に注目し、害虫のアブの一種「アメリカミズアブ」を餌にするため安定的に育てる技術の研究を進めてきました。',\n",
       " '19日は東京都内で未来の食を考えるシンポジウムが開かれ、由良教授が、餌の魚粉の半分を「アメリカミズアブ」に置き換えて魚を養殖しても、成長に差はなかったと報告しました。',\n",
       " '続いて、実際にアブを混ぜた餌で育てたニジマスの刺身の試食が行われ、参加した研究者などは、風味や脂の乗りなどを従来の餌で育てたニジマスと比べて食べながら「言われないと気付かないくらいの差で、おいしかったです」などと話していました。',\n",
       " '由良教授は「昆虫の活用方法を広げて食料の確保に不安がない未来を目指したい」と話していました。',\n",
       " '昆虫の利用はたんぱく質不足を補い食料問題の解決にもつながると考えられていて、魚の餌としての利用についても国や自治体の研究所や大学が連携して研究が進められています。',\n",
       " '農研機構＝農業・食品産業技術総合研究機構のグループは、体長2センチほどの北アメリカ原産のアブ「アメリカミズアブ」を魚の餌として安定的に大量に供給するための研究を進めています。',\n",
       " '「アメリカミズアブ」は、卵から、餌として活用できる大きさの幼虫になるまで3週間程度と成長が速いうえ野菜や果物など食品の残りかすを食べて育つということで、ごみの削減や食品ロスの問題の解決にもつながる可能性があるとしています。',\n",
       " '研究グループは温度や餌の種類、卵の集め方など最も効率的にアブを育てて利用するための条件を探る実験を進めていて、昆虫利用技術研究領域の安田哲也研究領域長は「家畜のように人の手で飼い慣らし安定的に供給できるようにすることで、食品ロスとたんぱく源の確保の問題を同時に解決したい」と話していました。',\n",
       " 'また、静岡県水産・海洋技術研究所では実際にアメリカミズアブを魚粉に代わる魚の餌として利用するため、養殖しているニジマスにアブを混ぜた餌を与えてどのような割合で混ぜるのがよいかや、餌の大きさなどを研究しています。',\n",
       " '別の研究所で行われた養殖のマダイにアブを混ぜた餌を与えた実験では、餌のうちの魚粉の半分を置き換えてもマダイの成長に差がないことが分かり、この研究所で同様の餌をニジマスに与えても成長の程度に差はほとんど見られていないということです。',\n",
       " '静岡県水産・海洋技術研究所の倉石祐主任研究員は「餌をただあげるだけでは魚はなかなか食べてくれないので、どんな工夫をすれば食べるのか検証しています。',\n",
       " '昆虫を利用することで魚の養殖を持続可能なものにしていきたい」と話していました。']"
      ]
     },
     "execution_count": 9,
     "metadata": {},
     "output_type": "execute_result"
    }
   ],
   "source": [
    "article = re.sub('\\n', '', article_raw)\n",
    "article = re.split('(?<=。)', article)\n",
    "article = [s for s in article if s != '']\n",
    "article"
   ]
  },
  {
   "cell_type": "code",
   "execution_count": null,
   "metadata": {},
   "outputs": [],
   "source": []
  }
 ],
 "metadata": {
  "kernelspec": {
   "display_name": "Python 3.10.8 64-bit ('3.10.8')",
   "language": "python",
   "name": "python3"
  },
  "language_info": {
   "codemirror_mode": {
    "name": "ipython",
    "version": 3
   },
   "file_extension": ".py",
   "mimetype": "text/x-python",
   "name": "python",
   "nbconvert_exporter": "python",
   "pygments_lexer": "ipython3",
   "version": "3.10.8"
  },
  "orig_nbformat": 4,
  "vscode": {
   "interpreter": {
    "hash": "898d3c6109607cac4667983f45c21ef7997d125c9b4da8292caa90a38e599c34"
   }
  }
 },
 "nbformat": 4,
 "nbformat_minor": 2
}
