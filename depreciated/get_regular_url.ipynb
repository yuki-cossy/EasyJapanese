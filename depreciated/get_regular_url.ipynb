{
 "cells": [
  {
   "cell_type": "markdown",
   "metadata": {},
   "source": [
    "# housekeeping"
   ]
  },
  {
   "cell_type": "code",
   "execution_count": 1,
   "metadata": {},
   "outputs": [],
   "source": [
    "from selenium import webdriver # webdriver 操作一般用\n",
    "from selenium.webdriver.chrome import service as fs # Chrome を driver として設定する用\n",
    "from selenium.webdriver.chrome.options import Options # headless モードで作業する用\n",
    "from selenium.webdriver.common.by import By # find_element() で参照したい位置を特定する用\n",
    "from bs4 import _s"
   ]
  },
  {
   "cell_type": "markdown",
   "metadata": {},
   "source": [
    "# 基本設定"
   ]
  },
  {
   "cell_type": "code",
   "execution_count": 2,
   "metadata": {},
   "outputs": [],
   "source": [
    "# chrome driver の PATH \n",
    "DRIVER_PATH = '/Users/domolm/.pyenv/versions/3.10.8/lib/python3.10/site-packages/selenium/chromedriver'\n",
    "service = fs.Service(executable_path=DRIVER_PATH)\n",
    "\n",
    "# headless モードで取得する\n",
    "options = Options()\n",
    "options.add_argument('--headless')"
   ]
  },
  {
   "cell_type": "markdown",
   "metadata": {},
   "source": [
    "# 起動"
   ]
  },
  {
   "cell_type": "code",
   "execution_count": 3,
   "metadata": {},
   "outputs": [],
   "source": [
    "# 起動\n",
    "driver = webdriver.Chrome(options=options, service=service)\n",
    "\n",
    "# 作業したい url を指定し、開く\n",
    "base_url = 'https://www3.nhk.or.jp/news/easy/k10013897051000/k10013897051000.html'\n",
    "driver.get(base_url)"
   ]
  },
  {
   "cell_type": "markdown",
   "metadata": {},
   "source": [
    "# html データとして取得"
   ]
  },
  {
   "cell_type": "code",
   "execution_count": 4,
   "metadata": {},
   "outputs": [],
   "source": [
    "# utf-8 に変換する\n",
    "html = driver.page_source.encode('utf-8')\n",
    "\n",
    "driver.quit()"
   ]
  },
  {
   "cell_type": "markdown",
   "metadata": {},
   "source": [
    "# BeautifulSoup用にパースする"
   ]
  },
  {
   "cell_type": "code",
   "execution_count": 5,
   "metadata": {},
   "outputs": [],
   "source": [
    "soup = _s(html, 'html.parser')"
   ]
  },
  {
   "cell_type": "markdown",
   "metadata": {},
   "source": [
    "# url 取得"
   ]
  },
  {
   "cell_type": "markdown",
   "metadata": {},
   "source": [
    "Beautifulsoup().select_one() は...  \n",
    "`bs4`（具体的には、`__init__.py` の class `BeautifulSoup`） を読み込んだ時に、`element.py` の中の `Tag` クラスの読み込みを実行しているのだが、そのクラス `Tag` のメソッドとして、`get()` がある。   \n",
    "以下、BeautifulSoup (_s) を読み込む際に、具体的に実行されているコード。  \n",
    "\n",
    "``from .element import (  \n",
    "    ...  \n",
    "    Tag. \n",
    ")`` "
   ]
  },
  {
   "cell_type": "code",
   "execution_count": 6,
   "metadata": {},
   "outputs": [
    {
     "name": "stdout",
     "output_type": "stream",
     "text": [
      "https://www3.nhk.or.jp/news/html/20221119/k10013897051000.html\n"
     ]
    }
   ],
   "source": [
    "new_url = soup.select_one('#js-regular-news').get('href')\n",
    "print(new_url)"
   ]
  },
  {
   "cell_type": "code",
   "execution_count": null,
   "metadata": {},
   "outputs": [],
   "source": []
  }
 ],
 "metadata": {
  "kernelspec": {
   "display_name": "Python 3.10.8 64-bit ('3.10.8')",
   "language": "python",
   "name": "python3"
  },
  "language_info": {
   "codemirror_mode": {
    "name": "ipython",
    "version": 3
   },
   "file_extension": ".py",
   "mimetype": "text/x-python",
   "name": "python",
   "nbconvert_exporter": "python",
   "pygments_lexer": "ipython3",
   "version": "3.10.8"
  },
  "orig_nbformat": 4,
  "vscode": {
   "interpreter": {
    "hash": "898d3c6109607cac4667983f45c21ef7997d125c9b4da8292caa90a38e599c34"
   }
  }
 },
 "nbformat": 4,
 "nbformat_minor": 2
}
